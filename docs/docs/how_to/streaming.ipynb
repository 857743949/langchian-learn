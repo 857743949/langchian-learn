{
  "cells": [
    {
      "cell_type": "raw",
      "id": "0bdb3b97-4989-4237-b43b-5943dbbd8302",
      "metadata": {
        "vscode": {
          "languageId": "raw"
        },
        "id": "0bdb3b97-4989-4237-b43b-5943dbbd8302"
      },
      "source": [
        "---\n",
        "keywords: [stream]\n",
        "---"
      ]
    },
    {
      "cell_type": "markdown",
      "id": "bb7d49db-04d3-4399-bfe1-09f82bbe6015",
      "metadata": {
        "id": "bb7d49db-04d3-4399-bfe1-09f82bbe6015"
      },
      "source": [
        "# How to stream runnables\n",
        "\n",
        ":::info Prerequisites\n",
        "\n",
        "This guide assumes familiarity with the following concepts:\n",
        "- [Chat models](/docs/concepts/chat_models)\n",
        "- [LangChain Expression Language](/docs/concepts/lcel)\n",
        "- [Output parsers](/docs/concepts/output_parsers)\n",
        "\n",
        ":::\n",
        "\n",
        "Streaming is critical in making applications based on LLMs feel responsive to end-users.\n",
        "\n",
        "Important LangChain primitives like [chat models](/docs/concepts/chat_models), [output parsers](/docs/concepts/output_parsers), [prompts](/docs/concepts/prompt_templates), [retrievers](/docs/concepts/retrievers), and [agents](/docs/concepts/agents) implement the LangChain [Runnable Interface](/docs/concepts/runnables).\n",
        "\n",
        "This interface provides two general approaches to stream content:\n",
        "\n",
        "1. sync `stream` and async `astream`: a **default implementation** of streaming that streams the **final output** from the chain.\n",
        "2. async `astream_events` and async `astream_log`: these provide a way to stream both **intermediate steps** and **final output** from the chain.\n",
        "\n",
        "Let's take a look at both approaches, and try to understand how to use them.\n",
        "\n",
        ":::info\n",
        "For a higher-level overview of streaming techniques in LangChain, see [this section of the conceptual guide](/docs/concepts/streaming).\n",
        ":::\n",
        "\n",
        "## Using Stream\n",
        "\n",
        "All `Runnable` objects implement a sync method called `stream` and an async variant called `astream`.\n",
        "\n",
        "These methods are designed to stream the final output in chunks, yielding each chunk as soon as it is available.\n",
        "\n",
        "Streaming is only possible if all steps in the program know how to process an **input stream**; i.e., process an input chunk one at a time, and yield a corresponding output chunk.\n",
        "\n",
        "The complexity of this processing can vary, from straightforward tasks like emitting tokens produced by an LLM, to more challenging ones like streaming parts of JSON results before the entire JSON is complete.\n",
        "\n",
        "The best place to start exploring streaming is with the single most important components in LLMs apps-- the LLMs themselves!\n",
        "\n",
        "### LLMs and Chat Models\n",
        "\n",
        "Large language models and their chat variants are the primary bottleneck in LLM based apps.\n",
        "\n",
        "Large language models can take **several seconds** to generate a complete response to a query. This is far slower than the **~200-300 ms** threshold at which an application feels responsive to an end user.\n",
        "\n",
        "The key strategy to make the application feel more responsive is to show intermediate progress; viz., to stream the output from the model **token by token**.\n",
        "\n",
        "We will show examples of streaming using a chat model. Choose one from the options below:\n",
        "\n",
        "import ChatModelTabs from \"@theme/ChatModelTabs\";\n",
        "\n",
        "<ChatModelTabs\n",
        "  customVarName=\"model\"\n",
        "/>\n"
      ]
    },
    {
      "cell_type": "code",
      "source": [
        "pip install -qU \"langchain[openai]\""
      ],
      "metadata": {
        "id": "E8wYSXLAbiIP",
        "outputId": "9b6f95fe-63a8-4080-c8e9-0f96456fb99e",
        "colab": {
          "base_uri": "https://localhost:8080/"
        }
      },
      "id": "E8wYSXLAbiIP",
      "execution_count": 1,
      "outputs": [
        {
          "output_type": "stream",
          "name": "stdout",
          "text": [
            "\u001b[?25l   \u001b[90m━━━━━━━━━━━━━━━━━━━━━━━━━━━━━━━━━━━━━━━━\u001b[0m \u001b[32m0.0/63.4 kB\u001b[0m \u001b[31m?\u001b[0m eta \u001b[36m-:--:--\u001b[0m\r\u001b[2K   \u001b[90m━━━━━━━━━━━━━━━━━━━━━━━━━━━━━━━━━━━━━━━━\u001b[0m \u001b[32m63.4/63.4 kB\u001b[0m \u001b[31m1.7 MB/s\u001b[0m eta \u001b[36m0:00:00\u001b[0m\n",
            "\u001b[?25h\u001b[?25l   \u001b[90m━━━━━━━━━━━━━━━━━━━━━━━━━━━━━━━━━━━━━━━━\u001b[0m \u001b[32m0.0/438.3 kB\u001b[0m \u001b[31m?\u001b[0m eta \u001b[36m-:--:--\u001b[0m\r\u001b[2K   \u001b[91m━━━━━━━━━━━━━━━━━━━━━━━━━━━━━━━━━━━━━━━\u001b[0m\u001b[90m╺\u001b[0m \u001b[32m430.1/438.3 kB\u001b[0m \u001b[31m17.6 MB/s\u001b[0m eta \u001b[36m0:00:01\u001b[0m\r\u001b[2K   \u001b[90m━━━━━━━━━━━━━━━━━━━━━━━━━━━━━━━━━━━━━━━━\u001b[0m \u001b[32m438.3/438.3 kB\u001b[0m \u001b[31m9.9 MB/s\u001b[0m eta \u001b[36m0:00:00\u001b[0m\n",
            "\u001b[?25h"
          ]
        }
      ]
    },
    {
      "cell_type": "code",
      "execution_count": 2,
      "id": "f123bdcb-8c8b-440c-9bbd-aa5ed4e9cd17",
      "metadata": {
        "id": "f123bdcb-8c8b-440c-9bbd-aa5ed4e9cd17",
        "outputId": "258a3aaf-359a-4c60-8200-1e7db2ed3dd2",
        "colab": {
          "base_uri": "https://localhost:8080/"
        }
      },
      "outputs": [
        {
          "name": "stdout",
          "output_type": "stream",
          "text": [
            "Enter API key for OpenAI: ··········\n"
          ]
        }
      ],
      "source": [
        "import getpass\n",
        "import os\n",
        "\n",
        "if not os.environ.get(\"OPENAI_API_KEY\"):\n",
        "  os.environ[\"OPENAI_API_KEY\"] = getpass.getpass(\"Enter API key for OpenAI: \")\n",
        "\n",
        "from langchain.chat_models import init_chat_model\n",
        "\n",
        "model = init_chat_model(\"gpt-4o-mini\", model_provider=\"openai\")"
      ]
    },
    {
      "cell_type": "code",
      "source": [
        "pip install -qU langchain-groq"
      ],
      "metadata": {
        "id": "O-csIkvBcTYU",
        "outputId": "b68ff01b-bc00-419c-8a71-3fbdbeb81497",
        "colab": {
          "base_uri": "https://localhost:8080/"
        }
      },
      "id": "O-csIkvBcTYU",
      "execution_count": 8,
      "outputs": [
        {
          "output_type": "stream",
          "name": "stdout",
          "text": [
            "\u001b[?25l   \u001b[90m━━━━━━━━━━━━━━━━━━━━━━━━━━━━━━━━━━━━━━━━\u001b[0m \u001b[32m0.0/129.4 kB\u001b[0m \u001b[31m?\u001b[0m eta \u001b[36m-:--:--\u001b[0m\r\u001b[2K   \u001b[90m━━━━━━━━━━━━━━━━━━━━━━━━━━━━━━━━━━━━━━━━\u001b[0m \u001b[32m129.4/129.4 kB\u001b[0m \u001b[31m4.4 MB/s\u001b[0m eta \u001b[36m0:00:00\u001b[0m\n",
            "\u001b[?25h"
          ]
        }
      ]
    },
    {
      "cell_type": "code",
      "source": [
        "import getpass\n",
        "import os\n",
        "\n",
        "os.environ[\"GROQ_API_KEY\"] = \"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\"\n",
        "\n",
        "from langchain_groq import ChatGroq\n",
        "\n",
        "model = ChatGroq(model=\"llama3-8b-8192\")"
      ],
      "metadata": {
        "id": "pE6f84oBcUwB"
      },
      "id": "pE6f84oBcUwB",
      "execution_count": 9,
      "outputs": []
    },
    {
      "cell_type": "markdown",
      "id": "a2464c57-0e89-4159-b21f-5859a21be658",
      "metadata": {
        "id": "a2464c57-0e89-4159-b21f-5859a21be658"
      },
      "source": [
        "Let's start with the sync `stream` API:"
      ]
    },
    {
      "cell_type": "code",
      "execution_count": 10,
      "id": "8b44dfb2-0749-487a-8918-f8b6b8233093",
      "metadata": {
        "id": "8b44dfb2-0749-487a-8918-f8b6b8233093",
        "outputId": "4c0cb828-7373-4a38-b2dd-584c983db926",
        "colab": {
          "base_uri": "https://localhost:8080/"
        }
      },
      "outputs": [
        {
          "output_type": "stream",
          "name": "stdout",
          "text": [
            "|The| color| of| the| sky| can| appear| different| depending| on| the| time| of| day|,| atmospheric| conditions|,| and| observer|'s| location|.| Here| are| some| common| answers|:\n",
            "\n",
            "|1|.| **|Blue|**:| During| the| daytime|,| when| the| sun| is| overhead|,| the| sky| typically| appears| a| shade| of| blue|,| known| as| cer|ule|an| blue|.| This| is| because| the| shorter| wavelengths| of| sunlight|,| such| as| blue| and| violet|,| are| scattered| more| than| the| longer| wavelengths|,| like| red| and| orange|,| by| the| tiny| molecules| of| gases| in| the| atmosphere|.\n",
            "|2|.| **|Golden|/or|ange|**:| During| sunrise| and| sunset|,| the| sky| can| take| on| hues| of| gold|,| orange|,| and| pink|.| This| is| due| to| the| scattering| of| light| by| atmospheric| particles|,| which| favors| longer| wavelengths|,| making| the| light| appear| more| redd|ish|.\n",
            "|3|.| **|Gray|/|white|**:| On| over|cast| days|,| the| sky| can| appear| gray| or| white|,| as| the| clouds| scatter| the| light| in| all| directions|,| reducing| the| amount| of| direct| sunlight|.\n",
            "|4|.| **|Black|**:| At| night|,| the| sky| can| appear| black|,| as| the| Earth| blocks| the| direct| sunlight|.| However|,| if| you|'re| in| a| location| with| minimal| light| pollution|,| you| might| be| able| to| see| the| stars| and| the| Milky| Way|,| which| can| add| a| celestial| beauty| to| the| dark| sky|.\n",
            "|5|.| **|Other| colors|**:| In| rare| cases|,| the| sky| can| take| on| other| colors|,| such| as|:\n",
            "|\t|*| Red| or| redd|ish|-b|rown|:| during| severe| dust| storms| or| wildfires|,| when| particles| in| the| air| scatter| the| light| in| a| way| that| favors| longer| wavelengths|.\n",
            "|\t|*| Green|:| during| intense| thunder|storms|,| when| the| air| is| filled| with| water| dro|plets| and| hail|stones| that| scatter| the| light|.\n",
            "|\t|*| Purple|:| during| intense| dust| storms|,| when| the| particles| in| the| air| absorb| the| longer| wavelengths| of| light|,| making| the| sky| appear| more| pur|pl|ish|.\n",
            "\n",
            "|So|,| the| color| of| the| sky| is| not| always| a| simple| answer|,| but| it|'s| always| fascinating| to| observe| and| appreciate| its| beauty|!||"
          ]
        }
      ],
      "source": [
        "chunks = []\n",
        "for chunk in model.stream(\"what color is the sky?\"):\n",
        "    chunks.append(chunk)\n",
        "    print(chunk.content, end=\"|\", flush=True)"
      ]
    },
    {
      "cell_type": "markdown",
      "id": "8d835b5c-cbb7-41ab-8905-bdc24d515d29",
      "metadata": {
        "id": "8d835b5c-cbb7-41ab-8905-bdc24d515d29"
      },
      "source": [
        "Alternatively, if you're working in an async environment, you may consider using the async `astream` API:"
      ]
    },
    {
      "cell_type": "code",
      "execution_count": 11,
      "id": "f180b6a0-0027-4bd8-8bab-fde76e282609",
      "metadata": {
        "id": "f180b6a0-0027-4bd8-8bab-fde76e282609",
        "outputId": "a491bd36-4bbd-40e6-f497-588bc55a1faa",
        "colab": {
          "base_uri": "https://localhost:8080/"
        }
      },
      "outputs": [
        {
          "output_type": "stream",
          "name": "stdout",
          "text": [
            "|What| a| great| question|!\n",
            "\n",
            "|The| color| of| the| sky| can| appear| different| depending| on| the| time| of| day|,| atmospheric| conditions|,| and| the| observer|'s| location|.| Here| are| some| common| answers|:\n",
            "\n",
            "|1|.| **|Blue|**:| During| the| daytime|,| when| the| sun| is| overhead|,| the| sky| typically| appears| blue| to| our| eyes|.| This| is| because| the| Earth|'s| atmosphere| sc|atters| sunlight| in| all| directions|,| and| shorter| (|blue|)| wavelengths| are| scattered| more| than| longer| (|red|)| wavelengths|,| giving| the| sky| its| blue| color|.\n",
            "|2|.| **|Golden|/H|oney|**:| During| sunrise| and| sunset|,| the| sky| can| take| on| hues| of| golden|,| orange|,| pink|,| and| red|.| This| is| because| the| sun|'s| rays| have| to| travel| longer| distances| through| the| atmosphere|,| scattering| off| more| molecules| and| particles|,| which| favors| longer| wavelengths| like| red| and| orange|.\n",
            "|3|.| **|Gray|/|White|**:| On| over|cast| days|,| the| sky| can| appear| gray| or| white| due| to| the| scattering| of| light| by| cloud| particles|.\n",
            "|4|.| **|Dark|**:| At| night|,| the| sky| can| appear| dark|,| but| it|'s| not| completely| black|.| There| are| still| stars| and| celestial| objects| visible|,| and| the| sky| can| have| a| deep| blue| or| purple| tint| due| to| the| scattering| of| moon|light| or| star|light|.\n",
            "\n",
            "|So|,| to| sum| it| up|,| the| color| of| the| sky| can| vary| depending| on| the| time| of| day|,| atmospheric| conditions|,| and| your| location|.| But| during| the| daytime|,| the| blue| color| is| usually| the| most| prominent|!||"
          ]
        }
      ],
      "source": [
        "chunks = []\n",
        "async for chunk in model.astream(\"what color is the sky?\"):\n",
        "    chunks.append(chunk)\n",
        "    print(chunk.content, end=\"|\", flush=True)"
      ]
    },
    {
      "cell_type": "markdown",
      "id": "66730a87-77d5-40d6-a68f-315121989bd1",
      "metadata": {
        "id": "66730a87-77d5-40d6-a68f-315121989bd1"
      },
      "source": [
        "Let's inspect one of the chunks"
      ]
    },
    {
      "cell_type": "code",
      "execution_count": 13,
      "id": "dade3000-1ac4-4f5c-b5c6-a0217f9f8a6b",
      "metadata": {
        "id": "dade3000-1ac4-4f5c-b5c6-a0217f9f8a6b",
        "outputId": "9964c712-748f-4e8f-9599-b93d54ba0c68",
        "colab": {
          "base_uri": "https://localhost:8080/"
        }
      },
      "outputs": [
        {
          "output_type": "execute_result",
          "data": {
            "text/plain": [
              "AIMessageChunk(content='What', additional_kwargs={}, response_metadata={}, id='run--68fc7df4-77c4-424e-94ba-c0d232153970')"
            ]
          },
          "metadata": {},
          "execution_count": 13
        }
      ],
      "source": [
        "chunks[1]"
      ]
    },
    {
      "cell_type": "markdown",
      "id": "a3a47193-2bd1-46bc-9c7e-ea0f6b08c4a5",
      "metadata": {
        "id": "a3a47193-2bd1-46bc-9c7e-ea0f6b08c4a5"
      },
      "source": [
        "We got back something called an `AIMessageChunk`. This chunk represents a part of an `AIMessage`.\n",
        "\n",
        "Message chunks are additive by design -- one can simply add them up to get the state of the response so far!"
      ]
    },
    {
      "cell_type": "code",
      "execution_count": 14,
      "id": "d3cf5f38-249c-4da0-94e6-5e5203fad52e",
      "metadata": {
        "id": "d3cf5f38-249c-4da0-94e6-5e5203fad52e",
        "outputId": "9d3ea82e-b2df-40b8-95ce-133de866208f",
        "colab": {
          "base_uri": "https://localhost:8080/"
        }
      },
      "outputs": [
        {
          "output_type": "execute_result",
          "data": {
            "text/plain": [
              "AIMessageChunk(content='What a great question', additional_kwargs={}, response_metadata={}, id='run--68fc7df4-77c4-424e-94ba-c0d232153970')"
            ]
          },
          "metadata": {},
          "execution_count": 14
        }
      ],
      "source": [
        "chunks[0] + chunks[1] + chunks[2] + chunks[3] + chunks[4]"
      ]
    },
    {
      "cell_type": "markdown",
      "id": "59ffbd9a-3b79-44b6-8883-1371f9460c77",
      "metadata": {
        "id": "59ffbd9a-3b79-44b6-8883-1371f9460c77"
      },
      "source": [
        "### Chains\n",
        "\n",
        "Virtually all LLM applications involve more steps than just a call to a language model.\n",
        "\n",
        "Let's build a simple chain using `LangChain Expression Language` (`LCEL`) that combines a prompt, model and a parser and verify that streaming works.\n",
        "\n",
        "We will use [`StrOutputParser`](https://python.langchain.com/api_reference/core/output_parsers/langchain_core.output_parsers.string.StrOutputParser.html) to parse the output from the model. This is a simple parser that extracts the `content` field from an `AIMessageChunk`, giving us the `token` returned by the model.\n",
        "\n",
        ":::tip\n",
        "LCEL is a *declarative* way to specify a \"program\" by chainining together different LangChain primitives. Chains created using LCEL benefit from an automatic implementation of `stream` and `astream` allowing streaming of the final output. In fact, chains created with LCEL implement the entire standard Runnable interface.\n",
        ":::"
      ]
    },
    {
      "cell_type": "code",
      "execution_count": 16,
      "id": "a8562ae2-3fd1-4829-9801-a5a732b1798d",
      "metadata": {
        "id": "a8562ae2-3fd1-4829-9801-a5a732b1798d",
        "outputId": "4ee979ab-ceb2-4612-e127-e63792db8588",
        "colab": {
          "base_uri": "https://localhost:8080/"
        }
      },
      "outputs": [
        {
          "output_type": "stream",
          "name": "stdout",
          "text": [
            "|Here|'s| one|:\n",
            "\n",
            "|Why| did| the| par|rot| go| to| the| doctor|?\n",
            "\n",
            "|Because| it| had| a| f|owl| temper|!||"
          ]
        }
      ],
      "source": [
        "from langchain_core.output_parsers import StrOutputParser\n",
        "from langchain_core.prompts import ChatPromptTemplate\n",
        "\n",
        "prompt = ChatPromptTemplate.from_template(\"tell me a joke about {topic}\")\n",
        "parser = StrOutputParser()\n",
        "chain = prompt | model | parser\n",
        "\n",
        "async for chunk in chain.astream({\"topic\": \"parrot\"}):\n",
        "    print(chunk, end=\"|\", flush=True)"
      ]
    },
    {
      "cell_type": "markdown",
      "id": "868bc412",
      "metadata": {
        "id": "868bc412"
      },
      "source": [
        "Note that we're getting streaming output even though we're using `parser` at the end of the chain above. The `parser` operates on each streaming chunk individidually. Many of the [LCEL primitives](/docs/how_to#langchain-expression-language-lcel) also support this kind of transform-style passthrough streaming, which can be very convenient when constructing apps.\n",
        "\n",
        "Custom functions can be [designed to return generators](/docs/how_to/functions#streaming), which are able to operate on streams.\n",
        "\n",
        "Certain runnables, like [prompt templates](/docs/how_to#prompt-templates) and [chat models](/docs/how_to#chat-models), cannot process individual chunks and instead aggregate all previous steps. Such runnables can interrupt the streaming process."
      ]
    },
    {
      "cell_type": "markdown",
      "id": "1b399fb4-5e3c-4581-9570-6df9b42b623d",
      "metadata": {
        "id": "1b399fb4-5e3c-4581-9570-6df9b42b623d"
      },
      "source": [
        ":::note\n",
        "The LangChain Expression language allows you to separate the construction of a chain from the mode in which it is used (e.g., sync/async, batch/streaming etc.). If this is not relevant to what you're building, you can also rely on a standard **imperative** programming approach by\n",
        "caling `invoke`, `batch` or `stream` on each component individually, assigning the results to variables and then using them downstream as you see fit.\n",
        "\n",
        ":::"
      ]
    },
    {
      "cell_type": "markdown",
      "id": "dfff2701-8887-486f-8b3b-eb26383d4bb6",
      "metadata": {
        "id": "dfff2701-8887-486f-8b3b-eb26383d4bb6"
      },
      "source": [
        "### Working with Input Streams\n",
        "\n",
        "What if you wanted to stream JSON from the output as it was being generated?\n",
        "\n",
        "If you were to rely on `json.loads` to parse the partial json, the parsing would fail as the partial json wouldn't be valid json.\n",
        "\n",
        "You'd likely be at a complete loss of what to do and claim that it wasn't possible to stream JSON.\n",
        "\n",
        "Well, turns out there is a way to do it -- the parser needs to operate on the **input stream**, and attempt to \"auto-complete\" the partial json into a valid state.\n",
        "\n",
        "Let's see such a parser in action to understand what this means."
      ]
    },
    {
      "cell_type": "code",
      "execution_count": 17,
      "id": "5ff63cce-715a-4561-951f-9321c82e8d81",
      "metadata": {
        "id": "5ff63cce-715a-4561-951f-9321c82e8d81",
        "outputId": "d8c742b9-0841-4abe-dad3-7aa55d3e3a5b",
        "colab": {
          "base_uri": "https://localhost:8080/"
        }
      },
      "outputs": [
        {
          "output_type": "stream",
          "name": "stdout",
          "text": [
            "{}\n",
            "{'countries': []}\n",
            "{'countries': [{}]}\n",
            "{'countries': [{'name': ''}]}\n",
            "{'countries': [{'name': 'France'}]}\n",
            "{'countries': [{'name': 'France', 'population': 652}]}\n",
            "{'countries': [{'name': 'France', 'population': 652735}]}\n",
            "{'countries': [{'name': 'France', 'population': 65273507}]}\n",
            "{'countries': [{'name': 'France', 'population': 65273507}, {}]}\n",
            "{'countries': [{'name': 'France', 'population': 65273507}, {'name': ''}]}\n",
            "{'countries': [{'name': 'France', 'population': 65273507}, {'name': 'Spain'}]}\n",
            "{'countries': [{'name': 'France', 'population': 65273507}, {'name': 'Spain', 'population': 467}]}\n",
            "{'countries': [{'name': 'France', 'population': 65273507}, {'name': 'Spain', 'population': 467547}]}\n",
            "{'countries': [{'name': 'France', 'population': 65273507}, {'name': 'Spain', 'population': 46754794}]}\n",
            "{'countries': [{'name': 'France', 'population': 65273507}, {'name': 'Spain', 'population': 46754794}, {}]}\n",
            "{'countries': [{'name': 'France', 'population': 65273507}, {'name': 'Spain', 'population': 46754794}, {'name': ''}]}\n",
            "{'countries': [{'name': 'France', 'population': 65273507}, {'name': 'Spain', 'population': 46754794}, {'name': 'Japan'}]}\n",
            "{'countries': [{'name': 'France', 'population': 65273507}, {'name': 'Spain', 'population': 46754794}, {'name': 'Japan', 'population': 127}]}\n",
            "{'countries': [{'name': 'France', 'population': 65273507}, {'name': 'Spain', 'population': 46754794}, {'name': 'Japan', 'population': 127110}]}\n",
            "{'countries': [{'name': 'France', 'population': 65273507}, {'name': 'Spain', 'population': 46754794}, {'name': 'Japan', 'population': 127110000}]}\n"
          ]
        }
      ],
      "source": [
        "from langchain_core.output_parsers import JsonOutputParser\n",
        "\n",
        "chain = (\n",
        "    model | JsonOutputParser()\n",
        ")  # Due to a bug in older versions of Langchain, JsonOutputParser did not stream results from some models\n",
        "async for text in chain.astream(\n",
        "    \"output a list of the countries france, spain and japan and their populations in JSON format. \"\n",
        "    'Use a dict with an outer key of \"countries\" which contains a list of countries. '\n",
        "    \"Each country should have the key `name` and `population`\"\n",
        "):\n",
        "    print(text, flush=True)"
      ]
    },
    {
      "cell_type": "markdown",
      "id": "151d4323-a6cf-49be-8779-e8797c5e3b00",
      "metadata": {
        "id": "151d4323-a6cf-49be-8779-e8797c5e3b00"
      },
      "source": [
        "Now, let's **break** streaming. We'll use the previous example and append an extraction function at the end that extracts the country names from the finalized JSON.\n",
        "\n",
        ":::warning\n",
        "Any steps in the chain that operate on **finalized inputs** rather than on **input streams** can break streaming functionality via `stream` or `astream`.\n",
        ":::\n",
        "\n",
        ":::tip\n",
        "Later, we will discuss the `astream_events` API which streams results from intermediate steps. This API will stream results from intermediate steps even if the chain contains steps that only operate on **finalized inputs**.\n",
        ":::"
      ]
    },
    {
      "cell_type": "code",
      "execution_count": 19,
      "id": "d9c90117-9faa-4a01-b484-0db071808d1f",
      "metadata": {
        "id": "d9c90117-9faa-4a01-b484-0db071808d1f",
        "outputId": "fa346a0d-dce6-4cf8-8cc3-b103c81de909",
        "colab": {
          "base_uri": "https://localhost:8080/"
        }
      },
      "outputs": [
        {
          "output_type": "stream",
          "name": "stdout",
          "text": [
            "['France', 'Spain', 'Japan']|"
          ]
        }
      ],
      "source": [
        "from langchain_core.output_parsers import (\n",
        "    JsonOutputParser,\n",
        ")\n",
        "\n",
        "\n",
        "# A function that operates on finalized inputs\n",
        "# rather than on an input_stream\n",
        "def _extract_country_names(inputs):\n",
        "    \"\"\"A function that does not operates on input streams and breaks streaming.\"\"\"\n",
        "    if not isinstance(inputs, dict):\n",
        "        return \"\"\n",
        "\n",
        "    if \"countries\" not in inputs:\n",
        "        return \"\"\n",
        "\n",
        "    countries = inputs[\"countries\"]\n",
        "\n",
        "    if not isinstance(countries, list):\n",
        "        return \"\"\n",
        "\n",
        "    country_names = [\n",
        "        country.get(\"name\") for country in countries if isinstance(country, dict)\n",
        "    ]\n",
        "    return country_names\n",
        "\n",
        "\n",
        "chain = model | JsonOutputParser() | _extract_country_names\n",
        "\n",
        "async for text in chain.astream(\n",
        "    \"output a list of the countries france, spain and japan and their populations in JSON format. \"\n",
        "    'Use a dict with an outer key of \"countries\" which contains a list of countries. '\n",
        "    \"Each country should have the key `name` and `population`\"\n",
        "):\n",
        "    print(text, end=\"|\", flush=True)"
      ]
    },
    {
      "cell_type": "markdown",
      "id": "cab6dca2-2027-414d-a196-2db6e3ebb8a5",
      "metadata": {
        "id": "cab6dca2-2027-414d-a196-2db6e3ebb8a5"
      },
      "source": [
        "#### Generator Functions\n",
        "\n",
        "Let's fix the streaming using a generator function that can operate on the **input stream**.\n",
        "\n",
        ":::tip\n",
        "A generator function (a function that uses `yield`) allows writing code that operates on **input streams**\n",
        ":::"
      ]
    },
    {
      "cell_type": "code",
      "execution_count": 21,
      "id": "15984b2b-315a-4119-945b-2a3dabea3082",
      "metadata": {
        "id": "15984b2b-315a-4119-945b-2a3dabea3082",
        "outputId": "d5d9b478-21fb-4db5-8f1c-e2bd11d89cce",
        "colab": {
          "base_uri": "https://localhost:8080/"
        }
      },
      "outputs": [
        {
          "output_type": "stream",
          "name": "stdout",
          "text": [
            "France|Spain|Japan|"
          ]
        }
      ],
      "source": [
        "from langchain_core.output_parsers import JsonOutputParser\n",
        "\n",
        "\n",
        "async def _extract_country_names_streaming(input_stream):\n",
        "    \"\"\"A function that operates on input streams.\"\"\"\n",
        "    country_names_so_far = set()\n",
        "\n",
        "    async for input in input_stream:\n",
        "        if not isinstance(input, dict):\n",
        "            continue\n",
        "\n",
        "        if \"countries\" not in input:\n",
        "            continue\n",
        "\n",
        "        countries = input[\"countries\"]\n",
        "\n",
        "        if not isinstance(countries, list):\n",
        "            continue\n",
        "\n",
        "        for country in countries:\n",
        "            name = country.get(\"name\")\n",
        "            if not name:\n",
        "                continue\n",
        "            if name not in country_names_so_far:\n",
        "                yield name\n",
        "                country_names_so_far.add(name)\n",
        "\n",
        "\n",
        "chain = model | JsonOutputParser() | _extract_country_names_streaming\n",
        "\n",
        "async for text in chain.astream(\n",
        "    \"output a list of the countries france, spain and japan and their populations in JSON format. \"\n",
        "    'Use a dict with an outer key of \"countries\" which contains a list of countries. '\n",
        "    \"Each country should have the key `name` and `population`\",\n",
        "):\n",
        "    print(text, end=\"|\", flush=True)"
      ]
    },
    {
      "cell_type": "markdown",
      "id": "d59823f5-9b9a-43c5-a213-34644e2f1d3d",
      "metadata": {
        "id": "d59823f5-9b9a-43c5-a213-34644e2f1d3d"
      },
      "source": [
        ":::note\n",
        "Because the code above is relying on JSON auto-completion, you may see partial names of countries (e.g., `Sp` and `Spain`), which is not what one would want for an extraction result!\n",
        "\n",
        "We're focusing on streaming concepts, not necessarily the results of the chains.\n",
        ":::"
      ]
    },
    {
      "cell_type": "markdown",
      "id": "6adf65b7-aa47-4321-98c7-a0abe43b833a",
      "metadata": {
        "id": "6adf65b7-aa47-4321-98c7-a0abe43b833a"
      },
      "source": [
        "### Non-streaming components\n",
        "\n",
        "Some built-in components like Retrievers do not offer any `streaming`. What happens if we try to `stream` them? 🤨"
      ]
    },
    {
      "cell_type": "code",
      "source": [
        "pip install langchain_community"
      ],
      "metadata": {
        "id": "Oc76QqpBd97-",
        "outputId": "04a47ff0-a7ec-4baf-e8a5-1d6577716f01",
        "colab": {
          "base_uri": "https://localhost:8080/"
        }
      },
      "id": "Oc76QqpBd97-",
      "execution_count": 23,
      "outputs": [
        {
          "output_type": "stream",
          "name": "stdout",
          "text": [
            "Collecting langchain_community\n",
            "  Downloading langchain_community-0.3.24-py3-none-any.whl.metadata (2.5 kB)\n",
            "Requirement already satisfied: langchain-core<1.0.0,>=0.3.59 in /usr/local/lib/python3.11/dist-packages (from langchain_community) (0.3.61)\n",
            "Requirement already satisfied: langchain<1.0.0,>=0.3.25 in /usr/local/lib/python3.11/dist-packages (from langchain_community) (0.3.25)\n",
            "Requirement already satisfied: SQLAlchemy<3,>=1.4 in /usr/local/lib/python3.11/dist-packages (from langchain_community) (2.0.40)\n",
            "Requirement already satisfied: requests<3,>=2 in /usr/local/lib/python3.11/dist-packages (from langchain_community) (2.32.3)\n",
            "Requirement already satisfied: PyYAML>=5.3 in /usr/local/lib/python3.11/dist-packages (from langchain_community) (6.0.2)\n",
            "Requirement already satisfied: aiohttp<4.0.0,>=3.8.3 in /usr/local/lib/python3.11/dist-packages (from langchain_community) (3.11.15)\n",
            "Requirement already satisfied: tenacity!=8.4.0,<10,>=8.1.0 in /usr/local/lib/python3.11/dist-packages (from langchain_community) (9.1.2)\n",
            "Collecting dataclasses-json<0.7,>=0.5.7 (from langchain_community)\n",
            "  Downloading dataclasses_json-0.6.7-py3-none-any.whl.metadata (25 kB)\n",
            "Collecting pydantic-settings<3.0.0,>=2.4.0 (from langchain_community)\n",
            "  Downloading pydantic_settings-2.9.1-py3-none-any.whl.metadata (3.8 kB)\n",
            "Requirement already satisfied: langsmith<0.4,>=0.1.125 in /usr/local/lib/python3.11/dist-packages (from langchain_community) (0.3.42)\n",
            "Collecting httpx-sse<1.0.0,>=0.4.0 (from langchain_community)\n",
            "  Downloading httpx_sse-0.4.0-py3-none-any.whl.metadata (9.0 kB)\n",
            "Requirement already satisfied: numpy>=1.26.2 in /usr/local/lib/python3.11/dist-packages (from langchain_community) (2.0.2)\n",
            "Requirement already satisfied: aiohappyeyeballs>=2.3.0 in /usr/local/lib/python3.11/dist-packages (from aiohttp<4.0.0,>=3.8.3->langchain_community) (2.6.1)\n",
            "Requirement already satisfied: aiosignal>=1.1.2 in /usr/local/lib/python3.11/dist-packages (from aiohttp<4.0.0,>=3.8.3->langchain_community) (1.3.2)\n",
            "Requirement already satisfied: attrs>=17.3.0 in /usr/local/lib/python3.11/dist-packages (from aiohttp<4.0.0,>=3.8.3->langchain_community) (25.3.0)\n",
            "Requirement already satisfied: frozenlist>=1.1.1 in /usr/local/lib/python3.11/dist-packages (from aiohttp<4.0.0,>=3.8.3->langchain_community) (1.6.0)\n",
            "Requirement already satisfied: multidict<7.0,>=4.5 in /usr/local/lib/python3.11/dist-packages (from aiohttp<4.0.0,>=3.8.3->langchain_community) (6.4.3)\n",
            "Requirement already satisfied: propcache>=0.2.0 in /usr/local/lib/python3.11/dist-packages (from aiohttp<4.0.0,>=3.8.3->langchain_community) (0.3.1)\n",
            "Requirement already satisfied: yarl<2.0,>=1.17.0 in /usr/local/lib/python3.11/dist-packages (from aiohttp<4.0.0,>=3.8.3->langchain_community) (1.20.0)\n",
            "Collecting marshmallow<4.0.0,>=3.18.0 (from dataclasses-json<0.7,>=0.5.7->langchain_community)\n",
            "  Downloading marshmallow-3.26.1-py3-none-any.whl.metadata (7.3 kB)\n",
            "Collecting typing-inspect<1,>=0.4.0 (from dataclasses-json<0.7,>=0.5.7->langchain_community)\n",
            "  Downloading typing_inspect-0.9.0-py3-none-any.whl.metadata (1.5 kB)\n",
            "Requirement already satisfied: langchain-text-splitters<1.0.0,>=0.3.8 in /usr/local/lib/python3.11/dist-packages (from langchain<1.0.0,>=0.3.25->langchain_community) (0.3.8)\n",
            "Requirement already satisfied: pydantic<3.0.0,>=2.7.4 in /usr/local/lib/python3.11/dist-packages (from langchain<1.0.0,>=0.3.25->langchain_community) (2.11.4)\n",
            "Requirement already satisfied: jsonpatch<2.0,>=1.33 in /usr/local/lib/python3.11/dist-packages (from langchain-core<1.0.0,>=0.3.59->langchain_community) (1.33)\n",
            "Requirement already satisfied: packaging<25,>=23.2 in /usr/local/lib/python3.11/dist-packages (from langchain-core<1.0.0,>=0.3.59->langchain_community) (24.2)\n",
            "Requirement already satisfied: typing-extensions>=4.7 in /usr/local/lib/python3.11/dist-packages (from langchain-core<1.0.0,>=0.3.59->langchain_community) (4.13.2)\n",
            "Requirement already satisfied: httpx<1,>=0.23.0 in /usr/local/lib/python3.11/dist-packages (from langsmith<0.4,>=0.1.125->langchain_community) (0.28.1)\n",
            "Requirement already satisfied: orjson<4.0.0,>=3.9.14 in /usr/local/lib/python3.11/dist-packages (from langsmith<0.4,>=0.1.125->langchain_community) (3.10.18)\n",
            "Requirement already satisfied: requests-toolbelt<2.0.0,>=1.0.0 in /usr/local/lib/python3.11/dist-packages (from langsmith<0.4,>=0.1.125->langchain_community) (1.0.0)\n",
            "Requirement already satisfied: zstandard<0.24.0,>=0.23.0 in /usr/local/lib/python3.11/dist-packages (from langsmith<0.4,>=0.1.125->langchain_community) (0.23.0)\n",
            "Collecting python-dotenv>=0.21.0 (from pydantic-settings<3.0.0,>=2.4.0->langchain_community)\n",
            "  Downloading python_dotenv-1.1.0-py3-none-any.whl.metadata (24 kB)\n",
            "Requirement already satisfied: typing-inspection>=0.4.0 in /usr/local/lib/python3.11/dist-packages (from pydantic-settings<3.0.0,>=2.4.0->langchain_community) (0.4.0)\n",
            "Requirement already satisfied: charset-normalizer<4,>=2 in /usr/local/lib/python3.11/dist-packages (from requests<3,>=2->langchain_community) (3.4.2)\n",
            "Requirement already satisfied: idna<4,>=2.5 in /usr/local/lib/python3.11/dist-packages (from requests<3,>=2->langchain_community) (3.10)\n",
            "Requirement already satisfied: urllib3<3,>=1.21.1 in /usr/local/lib/python3.11/dist-packages (from requests<3,>=2->langchain_community) (2.4.0)\n",
            "Requirement already satisfied: certifi>=2017.4.17 in /usr/local/lib/python3.11/dist-packages (from requests<3,>=2->langchain_community) (2025.4.26)\n",
            "Requirement already satisfied: greenlet>=1 in /usr/local/lib/python3.11/dist-packages (from SQLAlchemy<3,>=1.4->langchain_community) (3.2.2)\n",
            "Requirement already satisfied: anyio in /usr/local/lib/python3.11/dist-packages (from httpx<1,>=0.23.0->langsmith<0.4,>=0.1.125->langchain_community) (4.9.0)\n",
            "Requirement already satisfied: httpcore==1.* in /usr/local/lib/python3.11/dist-packages (from httpx<1,>=0.23.0->langsmith<0.4,>=0.1.125->langchain_community) (1.0.9)\n",
            "Requirement already satisfied: h11>=0.16 in /usr/local/lib/python3.11/dist-packages (from httpcore==1.*->httpx<1,>=0.23.0->langsmith<0.4,>=0.1.125->langchain_community) (0.16.0)\n",
            "Requirement already satisfied: jsonpointer>=1.9 in /usr/local/lib/python3.11/dist-packages (from jsonpatch<2.0,>=1.33->langchain-core<1.0.0,>=0.3.59->langchain_community) (3.0.0)\n",
            "Requirement already satisfied: annotated-types>=0.6.0 in /usr/local/lib/python3.11/dist-packages (from pydantic<3.0.0,>=2.7.4->langchain<1.0.0,>=0.3.25->langchain_community) (0.7.0)\n",
            "Requirement already satisfied: pydantic-core==2.33.2 in /usr/local/lib/python3.11/dist-packages (from pydantic<3.0.0,>=2.7.4->langchain<1.0.0,>=0.3.25->langchain_community) (2.33.2)\n",
            "Collecting mypy-extensions>=0.3.0 (from typing-inspect<1,>=0.4.0->dataclasses-json<0.7,>=0.5.7->langchain_community)\n",
            "  Downloading mypy_extensions-1.1.0-py3-none-any.whl.metadata (1.1 kB)\n",
            "Requirement already satisfied: sniffio>=1.1 in /usr/local/lib/python3.11/dist-packages (from anyio->httpx<1,>=0.23.0->langsmith<0.4,>=0.1.125->langchain_community) (1.3.1)\n",
            "Downloading langchain_community-0.3.24-py3-none-any.whl (2.5 MB)\n",
            "\u001b[2K   \u001b[90m━━━━━━━━━━━━━━━━━━━━━━━━━━━━━━━━━━━━━━━━\u001b[0m \u001b[32m2.5/2.5 MB\u001b[0m \u001b[31m32.3 MB/s\u001b[0m eta \u001b[36m0:00:00\u001b[0m\n",
            "\u001b[?25hDownloading dataclasses_json-0.6.7-py3-none-any.whl (28 kB)\n",
            "Downloading httpx_sse-0.4.0-py3-none-any.whl (7.8 kB)\n",
            "Downloading pydantic_settings-2.9.1-py3-none-any.whl (44 kB)\n",
            "\u001b[2K   \u001b[90m━━━━━━━━━━━━━━━━━━━━━━━━━━━━━━━━━━━━━━━━\u001b[0m \u001b[32m44.4/44.4 kB\u001b[0m \u001b[31m3.4 MB/s\u001b[0m eta \u001b[36m0:00:00\u001b[0m\n",
            "\u001b[?25hDownloading marshmallow-3.26.1-py3-none-any.whl (50 kB)\n",
            "\u001b[2K   \u001b[90m━━━━━━━━━━━━━━━━━━━━━━━━━━━━━━━━━━━━━━━━\u001b[0m \u001b[32m50.9/50.9 kB\u001b[0m \u001b[31m4.0 MB/s\u001b[0m eta \u001b[36m0:00:00\u001b[0m\n",
            "\u001b[?25hDownloading python_dotenv-1.1.0-py3-none-any.whl (20 kB)\n",
            "Downloading typing_inspect-0.9.0-py3-none-any.whl (8.8 kB)\n",
            "Downloading mypy_extensions-1.1.0-py3-none-any.whl (5.0 kB)\n",
            "Installing collected packages: python-dotenv, mypy-extensions, marshmallow, httpx-sse, typing-inspect, pydantic-settings, dataclasses-json, langchain_community\n",
            "Successfully installed dataclasses-json-0.6.7 httpx-sse-0.4.0 langchain_community-0.3.24 marshmallow-3.26.1 mypy-extensions-1.1.0 pydantic-settings-2.9.1 python-dotenv-1.1.0 typing-inspect-0.9.0\n"
          ]
        }
      ]
    },
    {
      "cell_type": "code",
      "execution_count": 25,
      "id": "b9b1c00d-8b44-40d0-9e2b-8a70d238f82b",
      "metadata": {
        "id": "b9b1c00d-8b44-40d0-9e2b-8a70d238f82b",
        "outputId": "9c6acae6-3fe5-4003-f649-15dea7082a3e",
        "colab": {
          "base_uri": "https://localhost:8080/",
          "height": 400
        }
      },
      "outputs": [
        {
          "output_type": "error",
          "ename": "RateLimitError",
          "evalue": "Error code: 429 - {'error': {'message': 'You exceeded your current quota, please check your plan and billing details. For more information on this error, read the docs: https://platform.openai.com/docs/guides/error-codes/api-errors.', 'type': 'insufficient_quota', 'param': None, 'code': 'insufficient_quota'}}",
          "traceback": [
            "\u001b[0;31m---------------------------------------------------------------------------\u001b[0m",
            "\u001b[0;31mRateLimitError\u001b[0m                            Traceback (most recent call last)",
            "\u001b[0;32m<ipython-input-25-209b5f57719a>\u001b[0m in \u001b[0;36m<cell line: 0>\u001b[0;34m()\u001b[0m\n\u001b[1;32m     12\u001b[0m \u001b[0mprompt\u001b[0m \u001b[0;34m=\u001b[0m \u001b[0mChatPromptTemplate\u001b[0m\u001b[0;34m.\u001b[0m\u001b[0mfrom_template\u001b[0m\u001b[0;34m(\u001b[0m\u001b[0mtemplate\u001b[0m\u001b[0;34m)\u001b[0m\u001b[0;34m\u001b[0m\u001b[0;34m\u001b[0m\u001b[0m\n\u001b[1;32m     13\u001b[0m \u001b[0;34m\u001b[0m\u001b[0m\n\u001b[0;32m---> 14\u001b[0;31m vectorstore = FAISS.from_texts(\n\u001b[0m\u001b[1;32m     15\u001b[0m     \u001b[0;34m[\u001b[0m\u001b[0;34m\"harrison worked at kensho\"\u001b[0m\u001b[0;34m,\u001b[0m \u001b[0;34m\"harrison likes spicy food\"\u001b[0m\u001b[0;34m]\u001b[0m\u001b[0;34m,\u001b[0m\u001b[0;34m\u001b[0m\u001b[0;34m\u001b[0m\u001b[0m\n\u001b[1;32m     16\u001b[0m     \u001b[0membedding\u001b[0m\u001b[0;34m=\u001b[0m\u001b[0mOpenAIEmbeddings\u001b[0m\u001b[0;34m(\u001b[0m\u001b[0;34m)\u001b[0m\u001b[0;34m,\u001b[0m\u001b[0;34m\u001b[0m\u001b[0;34m\u001b[0m\u001b[0m\n",
            "\u001b[0;32m/usr/local/lib/python3.11/dist-packages/langchain_community/vectorstores/faiss.py\u001b[0m in \u001b[0;36mfrom_texts\u001b[0;34m(cls, texts, embedding, metadatas, ids, **kwargs)\u001b[0m\n\u001b[1;32m   1041\u001b[0m                 \u001b[0mfaiss\u001b[0m \u001b[0;34m=\u001b[0m \u001b[0mFAISS\u001b[0m\u001b[0;34m.\u001b[0m\u001b[0mfrom_texts\u001b[0m\u001b[0;34m(\u001b[0m\u001b[0mtexts\u001b[0m\u001b[0;34m,\u001b[0m \u001b[0membeddings\u001b[0m\u001b[0;34m)\u001b[0m\u001b[0;34m\u001b[0m\u001b[0;34m\u001b[0m\u001b[0m\n\u001b[1;32m   1042\u001b[0m         \"\"\"\n\u001b[0;32m-> 1043\u001b[0;31m         \u001b[0membeddings\u001b[0m \u001b[0;34m=\u001b[0m \u001b[0membedding\u001b[0m\u001b[0;34m.\u001b[0m\u001b[0membed_documents\u001b[0m\u001b[0;34m(\u001b[0m\u001b[0mtexts\u001b[0m\u001b[0;34m)\u001b[0m\u001b[0;34m\u001b[0m\u001b[0;34m\u001b[0m\u001b[0m\n\u001b[0m\u001b[1;32m   1044\u001b[0m         return cls.__from(\n\u001b[1;32m   1045\u001b[0m             \u001b[0mtexts\u001b[0m\u001b[0;34m,\u001b[0m\u001b[0;34m\u001b[0m\u001b[0;34m\u001b[0m\u001b[0m\n",
            "\u001b[0;32m/usr/local/lib/python3.11/dist-packages/langchain_openai/embeddings/base.py\u001b[0m in \u001b[0;36membed_documents\u001b[0;34m(self, texts, chunk_size, **kwargs)\u001b[0m\n\u001b[1;32m    588\u001b[0m         \u001b[0;31m#       than the maximum context and use length-safe embedding function.\u001b[0m\u001b[0;34m\u001b[0m\u001b[0;34m\u001b[0m\u001b[0m\n\u001b[1;32m    589\u001b[0m         \u001b[0mengine\u001b[0m \u001b[0;34m=\u001b[0m \u001b[0mcast\u001b[0m\u001b[0;34m(\u001b[0m\u001b[0mstr\u001b[0m\u001b[0;34m,\u001b[0m \u001b[0mself\u001b[0m\u001b[0;34m.\u001b[0m\u001b[0mdeployment\u001b[0m\u001b[0;34m)\u001b[0m\u001b[0;34m\u001b[0m\u001b[0;34m\u001b[0m\u001b[0m\n\u001b[0;32m--> 590\u001b[0;31m         return self._get_len_safe_embeddings(\n\u001b[0m\u001b[1;32m    591\u001b[0m             \u001b[0mtexts\u001b[0m\u001b[0;34m,\u001b[0m \u001b[0mengine\u001b[0m\u001b[0;34m=\u001b[0m\u001b[0mengine\u001b[0m\u001b[0;34m,\u001b[0m \u001b[0mchunk_size\u001b[0m\u001b[0;34m=\u001b[0m\u001b[0mchunk_size\u001b[0m\u001b[0;34m,\u001b[0m \u001b[0;34m**\u001b[0m\u001b[0mkwargs\u001b[0m\u001b[0;34m\u001b[0m\u001b[0;34m\u001b[0m\u001b[0m\n\u001b[1;32m    592\u001b[0m         )\n",
            "\u001b[0;32m/usr/local/lib/python3.11/dist-packages/langchain_openai/embeddings/base.py\u001b[0m in \u001b[0;36m_get_len_safe_embeddings\u001b[0;34m(self, texts, engine, chunk_size, **kwargs)\u001b[0m\n\u001b[1;32m    476\u001b[0m         \u001b[0mbatched_embeddings\u001b[0m\u001b[0;34m:\u001b[0m \u001b[0mlist\u001b[0m\u001b[0;34m[\u001b[0m\u001b[0mlist\u001b[0m\u001b[0;34m[\u001b[0m\u001b[0mfloat\u001b[0m\u001b[0;34m]\u001b[0m\u001b[0;34m]\u001b[0m \u001b[0;34m=\u001b[0m \u001b[0;34m[\u001b[0m\u001b[0;34m]\u001b[0m\u001b[0;34m\u001b[0m\u001b[0;34m\u001b[0m\u001b[0m\n\u001b[1;32m    477\u001b[0m         \u001b[0;32mfor\u001b[0m \u001b[0mi\u001b[0m \u001b[0;32min\u001b[0m \u001b[0m_iter\u001b[0m\u001b[0;34m:\u001b[0m\u001b[0;34m\u001b[0m\u001b[0;34m\u001b[0m\u001b[0m\n\u001b[0;32m--> 478\u001b[0;31m             response = self.client.create(\n\u001b[0m\u001b[1;32m    479\u001b[0m                 \u001b[0minput\u001b[0m\u001b[0;34m=\u001b[0m\u001b[0mtokens\u001b[0m\u001b[0;34m[\u001b[0m\u001b[0mi\u001b[0m \u001b[0;34m:\u001b[0m \u001b[0mi\u001b[0m \u001b[0;34m+\u001b[0m \u001b[0m_chunk_size\u001b[0m\u001b[0;34m]\u001b[0m\u001b[0;34m,\u001b[0m \u001b[0;34m**\u001b[0m\u001b[0mclient_kwargs\u001b[0m\u001b[0;34m\u001b[0m\u001b[0;34m\u001b[0m\u001b[0m\n\u001b[1;32m    480\u001b[0m             )\n",
            "\u001b[0;32m/usr/local/lib/python3.11/dist-packages/openai/resources/embeddings.py\u001b[0m in \u001b[0;36mcreate\u001b[0;34m(self, input, model, dimensions, encoding_format, user, extra_headers, extra_query, extra_body, timeout)\u001b[0m\n\u001b[1;32m    126\u001b[0m             \u001b[0;32mreturn\u001b[0m \u001b[0mobj\u001b[0m\u001b[0;34m\u001b[0m\u001b[0;34m\u001b[0m\u001b[0m\n\u001b[1;32m    127\u001b[0m \u001b[0;34m\u001b[0m\u001b[0m\n\u001b[0;32m--> 128\u001b[0;31m         return self._post(\n\u001b[0m\u001b[1;32m    129\u001b[0m             \u001b[0;34m\"/embeddings\"\u001b[0m\u001b[0;34m,\u001b[0m\u001b[0;34m\u001b[0m\u001b[0;34m\u001b[0m\u001b[0m\n\u001b[1;32m    130\u001b[0m             \u001b[0mbody\u001b[0m\u001b[0;34m=\u001b[0m\u001b[0mmaybe_transform\u001b[0m\u001b[0;34m(\u001b[0m\u001b[0mparams\u001b[0m\u001b[0;34m,\u001b[0m \u001b[0membedding_create_params\u001b[0m\u001b[0;34m.\u001b[0m\u001b[0mEmbeddingCreateParams\u001b[0m\u001b[0;34m)\u001b[0m\u001b[0;34m,\u001b[0m\u001b[0;34m\u001b[0m\u001b[0;34m\u001b[0m\u001b[0m\n",
            "\u001b[0;32m/usr/local/lib/python3.11/dist-packages/openai/_base_client.py\u001b[0m in \u001b[0;36mpost\u001b[0;34m(self, path, cast_to, body, options, files, stream, stream_cls)\u001b[0m\n\u001b[1;32m   1237\u001b[0m             \u001b[0mmethod\u001b[0m\u001b[0;34m=\u001b[0m\u001b[0;34m\"post\"\u001b[0m\u001b[0;34m,\u001b[0m \u001b[0murl\u001b[0m\u001b[0;34m=\u001b[0m\u001b[0mpath\u001b[0m\u001b[0;34m,\u001b[0m \u001b[0mjson_data\u001b[0m\u001b[0;34m=\u001b[0m\u001b[0mbody\u001b[0m\u001b[0;34m,\u001b[0m \u001b[0mfiles\u001b[0m\u001b[0;34m=\u001b[0m\u001b[0mto_httpx_files\u001b[0m\u001b[0;34m(\u001b[0m\u001b[0mfiles\u001b[0m\u001b[0;34m)\u001b[0m\u001b[0;34m,\u001b[0m \u001b[0;34m**\u001b[0m\u001b[0moptions\u001b[0m\u001b[0;34m\u001b[0m\u001b[0;34m\u001b[0m\u001b[0m\n\u001b[1;32m   1238\u001b[0m         )\n\u001b[0;32m-> 1239\u001b[0;31m         \u001b[0;32mreturn\u001b[0m \u001b[0mcast\u001b[0m\u001b[0;34m(\u001b[0m\u001b[0mResponseT\u001b[0m\u001b[0;34m,\u001b[0m \u001b[0mself\u001b[0m\u001b[0;34m.\u001b[0m\u001b[0mrequest\u001b[0m\u001b[0;34m(\u001b[0m\u001b[0mcast_to\u001b[0m\u001b[0;34m,\u001b[0m \u001b[0mopts\u001b[0m\u001b[0;34m,\u001b[0m \u001b[0mstream\u001b[0m\u001b[0;34m=\u001b[0m\u001b[0mstream\u001b[0m\u001b[0;34m,\u001b[0m \u001b[0mstream_cls\u001b[0m\u001b[0;34m=\u001b[0m\u001b[0mstream_cls\u001b[0m\u001b[0;34m)\u001b[0m\u001b[0;34m)\u001b[0m\u001b[0;34m\u001b[0m\u001b[0;34m\u001b[0m\u001b[0m\n\u001b[0m\u001b[1;32m   1240\u001b[0m \u001b[0;34m\u001b[0m\u001b[0m\n\u001b[1;32m   1241\u001b[0m     def patch(\n",
            "\u001b[0;32m/usr/local/lib/python3.11/dist-packages/openai/_base_client.py\u001b[0m in \u001b[0;36mrequest\u001b[0;34m(self, cast_to, options, stream, stream_cls)\u001b[0m\n\u001b[1;32m   1032\u001b[0m \u001b[0;34m\u001b[0m\u001b[0m\n\u001b[1;32m   1033\u001b[0m                 \u001b[0mlog\u001b[0m\u001b[0;34m.\u001b[0m\u001b[0mdebug\u001b[0m\u001b[0;34m(\u001b[0m\u001b[0;34m\"Re-raising status error\"\u001b[0m\u001b[0;34m)\u001b[0m\u001b[0;34m\u001b[0m\u001b[0;34m\u001b[0m\u001b[0m\n\u001b[0;32m-> 1034\u001b[0;31m                 \u001b[0;32mraise\u001b[0m \u001b[0mself\u001b[0m\u001b[0;34m.\u001b[0m\u001b[0m_make_status_error_from_response\u001b[0m\u001b[0;34m(\u001b[0m\u001b[0merr\u001b[0m\u001b[0;34m.\u001b[0m\u001b[0mresponse\u001b[0m\u001b[0;34m)\u001b[0m \u001b[0;32mfrom\u001b[0m \u001b[0;32mNone\u001b[0m\u001b[0;34m\u001b[0m\u001b[0;34m\u001b[0m\u001b[0m\n\u001b[0m\u001b[1;32m   1035\u001b[0m \u001b[0;34m\u001b[0m\u001b[0m\n\u001b[1;32m   1036\u001b[0m             \u001b[0;32mbreak\u001b[0m\u001b[0;34m\u001b[0m\u001b[0;34m\u001b[0m\u001b[0m\n",
            "\u001b[0;31mRateLimitError\u001b[0m: Error code: 429 - {'error': {'message': 'You exceeded your current quota, please check your plan and billing details. For more information on this error, read the docs: https://platform.openai.com/docs/guides/error-codes/api-errors.', 'type': 'insufficient_quota', 'param': None, 'code': 'insufficient_quota'}}"
          ]
        }
      ],
      "source": [
        "from langchain_community.vectorstores import FAISS\n",
        "from langchain_core.output_parsers import StrOutputParser\n",
        "from langchain_core.prompts import ChatPromptTemplate\n",
        "from langchain_core.runnables import RunnablePassthrough\n",
        "from langchain_openai import OpenAIEmbeddings\n",
        "\n",
        "template = \"\"\"Answer the question based only on the following context:\n",
        "{context}\n",
        "\n",
        "Question: {question}\n",
        "\"\"\"\n",
        "prompt = ChatPromptTemplate.from_template(template)\n",
        "\n",
        "vectorstore = FAISS.from_texts(\n",
        "    [\"harrison worked at kensho\", \"harrison likes spicy food\"],\n",
        "    embedding=OpenAIEmbeddings(),\n",
        ")\n",
        "retriever = vectorstore.as_retriever()\n",
        "\n",
        "chunks = [chunk for chunk in retriever.stream(\"where did harrison work?\")]\n",
        "chunks"
      ]
    },
    {
      "cell_type": "markdown",
      "id": "6fd3e71b-439e-418f-8a8a-5232fba3d9fd",
      "metadata": {
        "id": "6fd3e71b-439e-418f-8a8a-5232fba3d9fd"
      },
      "source": [
        "Stream just yielded the final result from that component.\n",
        "\n",
        "This is OK 🥹! Not all components have to implement streaming -- in some cases streaming is either unnecessary, difficult or just doesn't make sense.\n",
        "\n",
        ":::tip\n",
        "An LCEL chain constructed using non-streaming components, will still be able to stream in a lot of cases, with streaming of partial output starting after the last non-streaming step in the chain.\n",
        ":::"
      ]
    },
    {
      "cell_type": "code",
      "execution_count": null,
      "id": "957447e6-1e60-41ef-8c10-2654bd9e738d",
      "metadata": {
        "id": "957447e6-1e60-41ef-8c10-2654bd9e738d"
      },
      "outputs": [],
      "source": [
        "retrieval_chain = (\n",
        "    {\n",
        "        \"context\": retriever.with_config(run_name=\"Docs\"),\n",
        "        \"question\": RunnablePassthrough(),\n",
        "    }\n",
        "    | prompt\n",
        "    | model\n",
        "    | StrOutputParser()\n",
        ")"
      ]
    },
    {
      "cell_type": "code",
      "execution_count": null,
      "id": "94e50b5d-bf51-4eee-9da0-ee40dd9ce42b",
      "metadata": {
        "id": "94e50b5d-bf51-4eee-9da0-ee40dd9ce42b",
        "outputId": "54df4541-0aa3-4cfa-d1dc-d1da716ab5a6"
      },
      "outputs": [
        {
          "name": "stdout",
          "output_type": "stream",
          "text": [
            "Base|d on| the| given| context|,| Harrison| worke|d at| K|ens|ho|.|\n",
            "\n",
            "Here| are| |3| |made| up| sentences| about| this| place|:|\n",
            "\n",
            "1|.| K|ens|ho| was| a| cutting|-|edge| technology| company| known| for| its| innovative| solutions| in| artificial| intelligence| an|d data| analytics|.|\n",
            "\n",
            "2|.| The| modern| office| space| at| K|ens|ho| feature|d open| floor| plans|,| collaborative| work|sp|aces|,| an|d a| vib|rant| atmosphere| that| fos|tere|d creativity| an|d team|work|.|\n",
            "\n",
            "3|.| With| its| prime| location| in| the| heart| of| the| city|,| K|ens|ho| attracte|d top| talent| from| aroun|d the| worl|d,| creating| a| diverse| an|d dynamic| work| environment|.|"
          ]
        }
      ],
      "source": [
        "for chunk in retrieval_chain.stream(\n",
        "    \"Where did harrison work? \" \"Write 3 made up sentences about this place.\"\n",
        "):\n",
        "    print(chunk, end=\"|\", flush=True)"
      ]
    },
    {
      "cell_type": "markdown",
      "id": "8657aa4e-3469-4b5b-a09c-60b53a23b1e7",
      "metadata": {
        "id": "8657aa4e-3469-4b5b-a09c-60b53a23b1e7"
      },
      "source": [
        "Now that we've seen how `stream` and `astream` work, let's venture into the world of streaming events. 🏞️"
      ]
    },
    {
      "cell_type": "markdown",
      "id": "baceb5c0-d4a4-4b98-8733-80ae4407b62d",
      "metadata": {
        "id": "baceb5c0-d4a4-4b98-8733-80ae4407b62d"
      },
      "source": [
        "## Using Stream Events\n",
        "\n",
        "Event Streaming is a **beta** API. This API may change a bit based on feedback.\n",
        "\n",
        ":::note\n",
        "\n",
        "This guide demonstrates the `V2` API and requires langchain-core >= 0.2. For the `V1` API compatible with older versions of LangChain, see [here](https://python.langchain.com/v0.1/docs/expression_language/streaming/#using-stream-events).\n",
        ":::"
      ]
    },
    {
      "cell_type": "code",
      "execution_count": null,
      "id": "61348df9-ec58-401e-be89-68a70042f88e",
      "metadata": {
        "id": "61348df9-ec58-401e-be89-68a70042f88e"
      },
      "outputs": [],
      "source": [
        "import langchain_core\n",
        "\n",
        "langchain_core.__version__"
      ]
    },
    {
      "cell_type": "markdown",
      "id": "52e9e983-bbde-4906-9eca-4ccc06eabd91",
      "metadata": {
        "id": "52e9e983-bbde-4906-9eca-4ccc06eabd91"
      },
      "source": [
        "For the `astream_events` API to work properly:\n",
        "\n",
        "* Use `async` throughout the code to the extent possible (e.g., async tools etc)\n",
        "* Propagate callbacks if defining custom functions / runnables\n",
        "* Whenever using runnables without LCEL, make sure to call `.astream()` on LLMs rather than `.ainvoke` to force the LLM to stream tokens.\n",
        "* Let us know if anything doesn't work as expected! :)\n",
        "\n",
        "### Event Reference\n",
        "\n",
        "Below is a reference table that shows some events that might be emitted by the various Runnable objects.\n",
        "\n",
        "\n",
        ":::note\n",
        "When streaming is implemented properly, the inputs to a runnable will not be known until after the input stream has been entirely consumed. This means that `inputs` will often be included only for `end` events and rather than for `start` events.\n",
        ":::\n",
        "\n",
        "| event                | name             | chunk                           | input                                         | output                                          |\n",
        "|----------------------|------------------|---------------------------------|-----------------------------------------------|-------------------------------------------------|\n",
        "| on_chat_model_start  | [model name]     |                                 | \\{\"messages\": [[SystemMessage, HumanMessage]]\\} |                                                 |\n",
        "| on_chat_model_stream | [model name]     | AIMessageChunk(content=\"hello\") |                                               |                                                 |\n",
        "| on_chat_model_end    | [model name]     |                                 | \\{\"messages\": [[SystemMessage, HumanMessage]]\\} | AIMessageChunk(content=\"hello world\")           |\n",
        "| on_llm_start         | [model name]     |                                 | \\{'input': 'hello'\\}                            |                                                 |\n",
        "| on_llm_stream        | [model name]     | 'Hello'                         |                                               |                                                 |\n",
        "| on_llm_end           | [model name]     |                                 | 'Hello human!'                                |                                                 |\n",
        "| on_chain_start       | format_docs      |                                 |                                               |                                                 |\n",
        "| on_chain_stream      | format_docs      | \"hello world!, goodbye world!\"  |                                               |                                                 |\n",
        "| on_chain_end         | format_docs      |                                 | [Document(...)]                               | \"hello world!, goodbye world!\"                  |\n",
        "| on_tool_start        | some_tool        |                                 | \\{\"x\": 1, \"y\": \"2\"\\}                            |                                                 |\n",
        "| on_tool_end          | some_tool        |                                 |                                               | \\{\"x\": 1, \"y\": \"2\"\\}                              |\n",
        "| on_retriever_start   | [retriever name] |                                 | \\{\"query\": \"hello\"\\}                            |                                                 |\n",
        "| on_retriever_end     | [retriever name] |                                 | \\{\"query\": \"hello\"\\}                            | [Document(...), ..]                             |\n",
        "| on_prompt_start      | [template_name]  |                                 | \\{\"question\": \"hello\"\\}                         |                                                 |\n",
        "| on_prompt_end        | [template_name]  |                                 | \\{\"question\": \"hello\"\\}                         | ChatPromptValue(messages: [SystemMessage, ...]) |"
      ]
    },
    {
      "cell_type": "markdown",
      "id": "1f6ec135-3348-4041-8f55-bf3e59b3b2d0",
      "metadata": {
        "id": "1f6ec135-3348-4041-8f55-bf3e59b3b2d0"
      },
      "source": [
        "### Chat Model\n",
        "\n",
        "Let's start off by looking at the events produced by a chat model."
      ]
    },
    {
      "cell_type": "code",
      "execution_count": 26,
      "id": "bab5f910-fee0-4a94-9f05-b469006333b8",
      "metadata": {
        "id": "bab5f910-fee0-4a94-9f05-b469006333b8"
      },
      "outputs": [],
      "source": [
        "events = []\n",
        "async for event in model.astream_events(\"hello\"):\n",
        "    events.append(event)"
      ]
    },
    {
      "cell_type": "markdown",
      "id": "32972939-2995-4b2e-84db-045adb044fad",
      "metadata": {
        "id": "32972939-2995-4b2e-84db-045adb044fad"
      },
      "source": [
        ":::note\n",
        "\n",
        "For `langchain-core<0.3.37`, set the `version` kwarg explicitly (e.g., `model.astream_events(\"hello\", version=\"v2\")`).\n",
        "\n",
        ":::"
      ]
    },
    {
      "cell_type": "markdown",
      "id": "ad2b8f47-da78-4569-a49a-53a8efaa26bc",
      "metadata": {
        "id": "ad2b8f47-da78-4569-a49a-53a8efaa26bc"
      },
      "source": [
        "Let's take a look at the few of the start event and a few of the end events."
      ]
    },
    {
      "cell_type": "code",
      "execution_count": 27,
      "id": "c4a2f5dc-2c75-4be4-a8ca-b5b84a3cdbef",
      "metadata": {
        "id": "c4a2f5dc-2c75-4be4-a8ca-b5b84a3cdbef",
        "outputId": "ebc907d9-94a2-435a-b44a-d7e965f73ddd",
        "colab": {
          "base_uri": "https://localhost:8080/"
        }
      },
      "outputs": [
        {
          "output_type": "execute_result",
          "data": {
            "text/plain": [
              "[{'event': 'on_chat_model_start',\n",
              "  'data': {'input': 'hello'},\n",
              "  'name': 'ChatGroq',\n",
              "  'tags': [],\n",
              "  'run_id': 'd6088455-3b5c-414d-a6e1-0f63b22bd820',\n",
              "  'metadata': {'ls_provider': 'groq',\n",
              "   'ls_model_name': 'llama3-8b-8192',\n",
              "   'ls_model_type': 'chat',\n",
              "   'ls_temperature': 0.7},\n",
              "  'parent_ids': []},\n",
              " {'event': 'on_chat_model_stream',\n",
              "  'run_id': 'd6088455-3b5c-414d-a6e1-0f63b22bd820',\n",
              "  'name': 'ChatGroq',\n",
              "  'tags': [],\n",
              "  'metadata': {'ls_provider': 'groq',\n",
              "   'ls_model_name': 'llama3-8b-8192',\n",
              "   'ls_model_type': 'chat',\n",
              "   'ls_temperature': 0.7},\n",
              "  'data': {'chunk': AIMessageChunk(content='', additional_kwargs={}, response_metadata={}, id='run--d6088455-3b5c-414d-a6e1-0f63b22bd820')},\n",
              "  'parent_ids': []},\n",
              " {'event': 'on_chat_model_stream',\n",
              "  'run_id': 'd6088455-3b5c-414d-a6e1-0f63b22bd820',\n",
              "  'name': 'ChatGroq',\n",
              "  'tags': [],\n",
              "  'metadata': {'ls_provider': 'groq',\n",
              "   'ls_model_name': 'llama3-8b-8192',\n",
              "   'ls_model_type': 'chat',\n",
              "   'ls_temperature': 0.7},\n",
              "  'data': {'chunk': AIMessageChunk(content='Hello', additional_kwargs={}, response_metadata={}, id='run--d6088455-3b5c-414d-a6e1-0f63b22bd820')},\n",
              "  'parent_ids': []}]"
            ]
          },
          "metadata": {},
          "execution_count": 27
        }
      ],
      "source": [
        "events[:3]"
      ]
    },
    {
      "cell_type": "code",
      "execution_count": 28,
      "id": "76cfe826-ee63-4310-ad48-55a95eb3b9d6",
      "metadata": {
        "id": "76cfe826-ee63-4310-ad48-55a95eb3b9d6",
        "outputId": "c8a69ac9-db18-44e3-d030-fac798e5e603",
        "colab": {
          "base_uri": "https://localhost:8080/"
        }
      },
      "outputs": [
        {
          "output_type": "execute_result",
          "data": {
            "text/plain": [
              "[{'event': 'on_chat_model_stream',\n",
              "  'run_id': 'd6088455-3b5c-414d-a6e1-0f63b22bd820',\n",
              "  'name': 'ChatGroq',\n",
              "  'tags': [],\n",
              "  'metadata': {'ls_provider': 'groq',\n",
              "   'ls_model_name': 'llama3-8b-8192',\n",
              "   'ls_model_type': 'chat',\n",
              "   'ls_temperature': 0.7},\n",
              "  'data': {'chunk': AIMessageChunk(content='', additional_kwargs={}, response_metadata={'finish_reason': 'stop', 'model_name': 'llama3-8b-8192', 'system_fingerprint': 'fp_179b0f92c9'}, id='run--d6088455-3b5c-414d-a6e1-0f63b22bd820', usage_metadata={'input_tokens': 11, 'output_tokens': 26, 'total_tokens': 37})},\n",
              "  'parent_ids': []},\n",
              " {'event': 'on_chat_model_end',\n",
              "  'data': {'output': AIMessageChunk(content=\"Hello! It's nice to meet you. Is there something I can help you with, or would you like to chat?\", additional_kwargs={}, response_metadata={'finish_reason': 'stop', 'model_name': 'llama3-8b-8192', 'system_fingerprint': 'fp_179b0f92c9'}, id='run--d6088455-3b5c-414d-a6e1-0f63b22bd820', usage_metadata={'input_tokens': 11, 'output_tokens': 26, 'total_tokens': 37})},\n",
              "  'run_id': 'd6088455-3b5c-414d-a6e1-0f63b22bd820',\n",
              "  'name': 'ChatGroq',\n",
              "  'tags': [],\n",
              "  'metadata': {'ls_provider': 'groq',\n",
              "   'ls_model_name': 'llama3-8b-8192',\n",
              "   'ls_model_type': 'chat',\n",
              "   'ls_temperature': 0.7},\n",
              "  'parent_ids': []}]"
            ]
          },
          "metadata": {},
          "execution_count": 28
        }
      ],
      "source": [
        "events[-2:]"
      ]
    },
    {
      "cell_type": "markdown",
      "id": "98c8f173-e9c7-4c27-81a5-b7c85c12714d",
      "metadata": {
        "id": "98c8f173-e9c7-4c27-81a5-b7c85c12714d"
      },
      "source": [
        "### Chain\n",
        "\n",
        "Let's revisit the example chain that parsed streaming JSON to explore the streaming events API."
      ]
    },
    {
      "cell_type": "code",
      "execution_count": 30,
      "id": "4328c56c-a303-427b-b1f2-f354e9af555c",
      "metadata": {
        "id": "4328c56c-a303-427b-b1f2-f354e9af555c"
      },
      "outputs": [],
      "source": [
        "chain = (\n",
        "    model | JsonOutputParser()\n",
        ")  # Due to a bug in older versions of Langchain, JsonOutputParser did not stream results from some models\n",
        "\n",
        "events = [\n",
        "    event\n",
        "    async for event in chain.astream_events(\n",
        "        \"output a list of the countries france, spain and japan and their populations in JSON format. \"\n",
        "        'Use a dict with an outer key of \"countries\" which contains a list of countries. '\n",
        "        \"Each country should have the key `name` and `population`\",\n",
        "    )\n",
        "]"
      ]
    },
    {
      "cell_type": "markdown",
      "id": "4cc00b99-a961-4221-a3c7-9d807114bbfb",
      "metadata": {
        "id": "4cc00b99-a961-4221-a3c7-9d807114bbfb"
      },
      "source": [
        "If you examine at the first few events, you'll notice that there are **3** different start events rather than **2** start events.\n",
        "\n",
        "The three start events correspond to:\n",
        "\n",
        "1. The chain (model + parser)\n",
        "2. The model\n",
        "3. The parser"
      ]
    },
    {
      "cell_type": "code",
      "execution_count": 31,
      "id": "8e66ea3d-a450-436a-aaac-d9478abc6c28",
      "metadata": {
        "id": "8e66ea3d-a450-436a-aaac-d9478abc6c28",
        "outputId": "3ba0e6c5-f26b-482f-9ba1-ac0ff2e5f408",
        "colab": {
          "base_uri": "https://localhost:8080/"
        }
      },
      "outputs": [
        {
          "output_type": "execute_result",
          "data": {
            "text/plain": [
              "[{'event': 'on_chain_start',\n",
              "  'data': {'input': 'output a list of the countries france, spain and japan and their populations in JSON format. Use a dict with an outer key of \"countries\" which contains a list of countries. Each country should have the key `name` and `population`'},\n",
              "  'name': 'RunnableSequence',\n",
              "  'tags': [],\n",
              "  'run_id': '8b292267-7f39-48b2-af1b-f655a438111e',\n",
              "  'metadata': {},\n",
              "  'parent_ids': []},\n",
              " {'event': 'on_chat_model_start',\n",
              "  'data': {'input': {'messages': [[HumanMessage(content='output a list of the countries france, spain and japan and their populations in JSON format. Use a dict with an outer key of \"countries\" which contains a list of countries. Each country should have the key `name` and `population`', additional_kwargs={}, response_metadata={})]]}},\n",
              "  'name': 'ChatGroq',\n",
              "  'tags': ['seq:step:1'],\n",
              "  'run_id': 'f9266ae5-fe60-4090-a43b-daa92ef6d46e',\n",
              "  'metadata': {'ls_provider': 'groq',\n",
              "   'ls_model_name': 'llama3-8b-8192',\n",
              "   'ls_model_type': 'chat',\n",
              "   'ls_temperature': 0.7},\n",
              "  'parent_ids': ['8b292267-7f39-48b2-af1b-f655a438111e']},\n",
              " {'event': 'on_chat_model_stream',\n",
              "  'data': {'chunk': AIMessageChunk(content='', additional_kwargs={}, response_metadata={}, id='run--f9266ae5-fe60-4090-a43b-daa92ef6d46e')},\n",
              "  'run_id': 'f9266ae5-fe60-4090-a43b-daa92ef6d46e',\n",
              "  'name': 'ChatGroq',\n",
              "  'tags': ['seq:step:1'],\n",
              "  'metadata': {'ls_provider': 'groq',\n",
              "   'ls_model_name': 'llama3-8b-8192',\n",
              "   'ls_model_type': 'chat',\n",
              "   'ls_temperature': 0.7},\n",
              "  'parent_ids': ['8b292267-7f39-48b2-af1b-f655a438111e']}]"
            ]
          },
          "metadata": {},
          "execution_count": 31
        }
      ],
      "source": [
        "events[:3]"
      ]
    },
    {
      "cell_type": "markdown",
      "id": "c8512238-d035-4acd-9248-a8570da064c9",
      "metadata": {
        "id": "c8512238-d035-4acd-9248-a8570da064c9"
      },
      "source": [
        "What do you think you'd see if you looked at the last 3 events? what about the middle?"
      ]
    },
    {
      "cell_type": "markdown",
      "id": "c742cfa4-9b03-4a5b-96d9-5fe56e95e3b4",
      "metadata": {
        "id": "c742cfa4-9b03-4a5b-96d9-5fe56e95e3b4"
      },
      "source": [
        "Let's use this API to take output the stream events from the model and the parser. We're ignoring start events, end events and events from the chain."
      ]
    },
    {
      "cell_type": "code",
      "execution_count": 32,
      "id": "630c71d6-8d94-4ce0-a78a-f20e90f628df",
      "metadata": {
        "id": "630c71d6-8d94-4ce0-a78a-f20e90f628df",
        "outputId": "c4dd9e14-1e52-4efe-d4db-37b04cb8aea7",
        "colab": {
          "base_uri": "https://localhost:8080/"
        }
      },
      "outputs": [
        {
          "output_type": "stream",
          "name": "stdout",
          "text": [
            "Chat model chunk: ''\n",
            "Chat model chunk: 'Here'\n",
            "Chat model chunk: ' is'\n",
            "Chat model chunk: ' the'\n",
            "Chat model chunk: ' output'\n",
            "Chat model chunk: ' in'\n",
            "Chat model chunk: ' JSON'\n",
            "Chat model chunk: ' format'\n",
            "Chat model chunk: ':\\n'\n",
            "Chat model chunk: '``'\n",
            "Chat model chunk: '`\\n'\n",
            "Chat model chunk: '{\\n'\n",
            "Parser chunk: {}\n",
            "Chat model chunk: ' '\n",
            "Chat model chunk: ' \"'\n",
            "Chat model chunk: 'countries'\n",
            "Chat model chunk: '\":'\n",
            "Chat model chunk: ' [\\n'\n",
            "Parser chunk: {'countries': []}\n",
            "Chat model chunk: '   '\n",
            "Chat model chunk: ' {\\n'\n",
            "Parser chunk: {'countries': [{}]}\n",
            "Chat model chunk: '     '\n",
            "Chat model chunk: ' \"'\n",
            "Chat model chunk: 'name'\n",
            "...\n"
          ]
        }
      ],
      "source": [
        "num_events = 0\n",
        "\n",
        "async for event in chain.astream_events(\n",
        "    \"output a list of the countries france, spain and japan and their populations in JSON format. \"\n",
        "    'Use a dict with an outer key of \"countries\" which contains a list of countries. '\n",
        "    \"Each country should have the key `name` and `population`\",\n",
        "):\n",
        "    kind = event[\"event\"]\n",
        "    if kind == \"on_chat_model_stream\":\n",
        "        print(\n",
        "            f\"Chat model chunk: {repr(event['data']['chunk'].content)}\",\n",
        "            flush=True,\n",
        "        )\n",
        "    if kind == \"on_parser_stream\":\n",
        "        print(f\"Parser chunk: {event['data']['chunk']}\", flush=True)\n",
        "    num_events += 1\n",
        "    if num_events > 30:\n",
        "        # Truncate the output\n",
        "        print(\"...\")\n",
        "        break"
      ]
    },
    {
      "cell_type": "markdown",
      "id": "798ea891-997c-454c-bf60-43124f40ee1b",
      "metadata": {
        "id": "798ea891-997c-454c-bf60-43124f40ee1b"
      },
      "source": [
        "Because both the model and the parser support streaming, we see streaming events from both components in real time! Kind of cool isn't it? 🦜"
      ]
    },
    {
      "cell_type": "markdown",
      "id": "5084148b-bcdc-4373-9caa-6568f03e7b23",
      "metadata": {
        "id": "5084148b-bcdc-4373-9caa-6568f03e7b23"
      },
      "source": [
        "### Filtering Events\n",
        "\n",
        "Because this API produces so many events, it is useful to be able to filter on events.\n",
        "\n",
        "You can filter by either component `name`, component `tags` or component `type`.\n",
        "\n",
        "#### By Name"
      ]
    },
    {
      "cell_type": "code",
      "execution_count": null,
      "id": "42145735-25e8-4e67-b081-b0c15ea45dd1",
      "metadata": {
        "id": "42145735-25e8-4e67-b081-b0c15ea45dd1",
        "outputId": "e93c9e20-ca07-4b37-eaa0-24e279c67e1f"
      },
      "outputs": [
        {
          "name": "stdout",
          "output_type": "stream",
          "text": [
            "{'event': 'on_parser_start', 'data': {'input': 'output a list of the countries france, spain and japan and their populations in JSON format. Use a dict with an outer key of \"countries\" which contains a list of countries. Each country should have the key `name` and `population`'}, 'name': 'my_parser', 'tags': ['seq:step:2'], 'run_id': '37ee9e85-481c-415e-863b-c9e132d24948', 'metadata': {}, 'parent_ids': ['5a0bc625-09fd-4bdf-9932-54909a9a8c29']}\n",
            "{'event': 'on_parser_stream', 'run_id': '37ee9e85-481c-415e-863b-c9e132d24948', 'name': 'my_parser', 'tags': ['seq:step:2'], 'metadata': {}, 'data': {'chunk': {}}, 'parent_ids': ['5a0bc625-09fd-4bdf-9932-54909a9a8c29']}\n",
            "{'event': 'on_parser_stream', 'run_id': '37ee9e85-481c-415e-863b-c9e132d24948', 'name': 'my_parser', 'tags': ['seq:step:2'], 'metadata': {}, 'data': {'chunk': {'countries': []}}, 'parent_ids': ['5a0bc625-09fd-4bdf-9932-54909a9a8c29']}\n",
            "{'event': 'on_parser_stream', 'run_id': '37ee9e85-481c-415e-863b-c9e132d24948', 'name': 'my_parser', 'tags': ['seq:step:2'], 'metadata': {}, 'data': {'chunk': {'countries': [{}]}}, 'parent_ids': ['5a0bc625-09fd-4bdf-9932-54909a9a8c29']}\n",
            "{'event': 'on_parser_stream', 'run_id': '37ee9e85-481c-415e-863b-c9e132d24948', 'name': 'my_parser', 'tags': ['seq:step:2'], 'metadata': {}, 'data': {'chunk': {'countries': [{'name': 'France'}]}}, 'parent_ids': ['5a0bc625-09fd-4bdf-9932-54909a9a8c29']}\n",
            "{'event': 'on_parser_stream', 'run_id': '37ee9e85-481c-415e-863b-c9e132d24948', 'name': 'my_parser', 'tags': ['seq:step:2'], 'metadata': {}, 'data': {'chunk': {'countries': [{'name': 'France', 'population': 67}]}}, 'parent_ids': ['5a0bc625-09fd-4bdf-9932-54909a9a8c29']}\n",
            "{'event': 'on_parser_stream', 'run_id': '37ee9e85-481c-415e-863b-c9e132d24948', 'name': 'my_parser', 'tags': ['seq:step:2'], 'metadata': {}, 'data': {'chunk': {'countries': [{'name': 'France', 'population': 67413}]}}, 'parent_ids': ['5a0bc625-09fd-4bdf-9932-54909a9a8c29']}\n",
            "{'event': 'on_parser_stream', 'run_id': '37ee9e85-481c-415e-863b-c9e132d24948', 'name': 'my_parser', 'tags': ['seq:step:2'], 'metadata': {}, 'data': {'chunk': {'countries': [{'name': 'France', 'population': 67413000}]}}, 'parent_ids': ['5a0bc625-09fd-4bdf-9932-54909a9a8c29']}\n",
            "{'event': 'on_parser_stream', 'run_id': '37ee9e85-481c-415e-863b-c9e132d24948', 'name': 'my_parser', 'tags': ['seq:step:2'], 'metadata': {}, 'data': {'chunk': {'countries': [{'name': 'France', 'population': 67413000}, {}]}}, 'parent_ids': ['5a0bc625-09fd-4bdf-9932-54909a9a8c29']}\n",
            "{'event': 'on_parser_stream', 'run_id': '37ee9e85-481c-415e-863b-c9e132d24948', 'name': 'my_parser', 'tags': ['seq:step:2'], 'metadata': {}, 'data': {'chunk': {'countries': [{'name': 'France', 'population': 67413000}, {'name': 'Spain'}]}}, 'parent_ids': ['5a0bc625-09fd-4bdf-9932-54909a9a8c29']}\n",
            "{'event': 'on_parser_stream', 'run_id': '37ee9e85-481c-415e-863b-c9e132d24948', 'name': 'my_parser', 'tags': ['seq:step:2'], 'metadata': {}, 'data': {'chunk': {'countries': [{'name': 'France', 'population': 67413000}, {'name': 'Spain', 'population': 47}]}}, 'parent_ids': ['5a0bc625-09fd-4bdf-9932-54909a9a8c29']}\n",
            "...\n"
          ]
        }
      ],
      "source": [
        "chain = model.with_config({\"run_name\": \"model\"}) | JsonOutputParser().with_config(\n",
        "    {\"run_name\": \"my_parser\"}\n",
        ")\n",
        "\n",
        "max_events = 0\n",
        "async for event in chain.astream_events(\n",
        "    \"output a list of the countries france, spain and japan and their populations in JSON format. \"\n",
        "    'Use a dict with an outer key of \"countries\" which contains a list of countries. '\n",
        "    \"Each country should have the key `name` and `population`\",\n",
        "    include_names=[\"my_parser\"],\n",
        "):\n",
        "    print(event)\n",
        "    max_events += 1\n",
        "    if max_events > 10:\n",
        "        # Truncate output\n",
        "        print(\"...\")\n",
        "        break"
      ]
    },
    {
      "cell_type": "markdown",
      "id": "c59d5626-7dba-4eb3-ad81-76c1092c5146",
      "metadata": {
        "id": "c59d5626-7dba-4eb3-ad81-76c1092c5146"
      },
      "source": [
        "#### By Type"
      ]
    },
    {
      "cell_type": "code",
      "execution_count": null,
      "id": "2a7d8fe0-47ca-4ab4-9c10-b34e3f6106ee",
      "metadata": {
        "id": "2a7d8fe0-47ca-4ab4-9c10-b34e3f6106ee",
        "outputId": "38b5854d-23ad-4e70-a761-f5a4b73e6052"
      },
      "outputs": [
        {
          "name": "stdout",
          "output_type": "stream",
          "text": [
            "{'event': 'on_chat_model_start', 'data': {'input': 'output a list of the countries france, spain and japan and their populations in JSON format. Use a dict with an outer key of \"countries\" which contains a list of countries. Each country should have the key `name` and `population`'}, 'name': 'model', 'tags': ['seq:step:1'], 'run_id': '156c3e40-82fb-49ff-8e41-9e998061be8c', 'metadata': {'ls_provider': 'anthropic', 'ls_model_name': 'claude-3-sonnet-20240229', 'ls_model_type': 'chat', 'ls_temperature': 0.0, 'ls_max_tokens': 1024}, 'parent_ids': ['7b927055-bc1b-4b50-a34c-10d3cfcb3899']}\n",
            "{'event': 'on_chat_model_stream', 'data': {'chunk': AIMessageChunk(content='', additional_kwargs={}, response_metadata={}, id='run-156c3e40-82fb-49ff-8e41-9e998061be8c', usage_metadata={'input_tokens': 56, 'output_tokens': 1, 'total_tokens': 57, 'input_token_details': {'cache_creation': 0, 'cache_read': 0}})}, 'run_id': '156c3e40-82fb-49ff-8e41-9e998061be8c', 'name': 'model', 'tags': ['seq:step:1'], 'metadata': {'ls_provider': 'anthropic', 'ls_model_name': 'claude-3-sonnet-20240229', 'ls_model_type': 'chat', 'ls_temperature': 0.0, 'ls_max_tokens': 1024}, 'parent_ids': ['7b927055-bc1b-4b50-a34c-10d3cfcb3899']}\n",
            "{'event': 'on_chat_model_stream', 'data': {'chunk': AIMessageChunk(content='{', additional_kwargs={}, response_metadata={}, id='run-156c3e40-82fb-49ff-8e41-9e998061be8c')}, 'run_id': '156c3e40-82fb-49ff-8e41-9e998061be8c', 'name': 'model', 'tags': ['seq:step:1'], 'metadata': {'ls_provider': 'anthropic', 'ls_model_name': 'claude-3-sonnet-20240229', 'ls_model_type': 'chat', 'ls_temperature': 0.0, 'ls_max_tokens': 1024}, 'parent_ids': ['7b927055-bc1b-4b50-a34c-10d3cfcb3899']}\n",
            "{'event': 'on_chat_model_stream', 'data': {'chunk': AIMessageChunk(content='\\n  \"countries', additional_kwargs={}, response_metadata={}, id='run-156c3e40-82fb-49ff-8e41-9e998061be8c')}, 'run_id': '156c3e40-82fb-49ff-8e41-9e998061be8c', 'name': 'model', 'tags': ['seq:step:1'], 'metadata': {'ls_provider': 'anthropic', 'ls_model_name': 'claude-3-sonnet-20240229', 'ls_model_type': 'chat', 'ls_temperature': 0.0, 'ls_max_tokens': 1024}, 'parent_ids': ['7b927055-bc1b-4b50-a34c-10d3cfcb3899']}\n",
            "{'event': 'on_chat_model_stream', 'data': {'chunk': AIMessageChunk(content='\": [\\n    ', additional_kwargs={}, response_metadata={}, id='run-156c3e40-82fb-49ff-8e41-9e998061be8c')}, 'run_id': '156c3e40-82fb-49ff-8e41-9e998061be8c', 'name': 'model', 'tags': ['seq:step:1'], 'metadata': {'ls_provider': 'anthropic', 'ls_model_name': 'claude-3-sonnet-20240229', 'ls_model_type': 'chat', 'ls_temperature': 0.0, 'ls_max_tokens': 1024}, 'parent_ids': ['7b927055-bc1b-4b50-a34c-10d3cfcb3899']}\n",
            "{'event': 'on_chat_model_stream', 'data': {'chunk': AIMessageChunk(content='{\\n      \"', additional_kwargs={}, response_metadata={}, id='run-156c3e40-82fb-49ff-8e41-9e998061be8c')}, 'run_id': '156c3e40-82fb-49ff-8e41-9e998061be8c', 'name': 'model', 'tags': ['seq:step:1'], 'metadata': {'ls_provider': 'anthropic', 'ls_model_name': 'claude-3-sonnet-20240229', 'ls_model_type': 'chat', 'ls_temperature': 0.0, 'ls_max_tokens': 1024}, 'parent_ids': ['7b927055-bc1b-4b50-a34c-10d3cfcb3899']}\n",
            "{'event': 'on_chat_model_stream', 'data': {'chunk': AIMessageChunk(content='name\": \"France', additional_kwargs={}, response_metadata={}, id='run-156c3e40-82fb-49ff-8e41-9e998061be8c')}, 'run_id': '156c3e40-82fb-49ff-8e41-9e998061be8c', 'name': 'model', 'tags': ['seq:step:1'], 'metadata': {'ls_provider': 'anthropic', 'ls_model_name': 'claude-3-sonnet-20240229', 'ls_model_type': 'chat', 'ls_temperature': 0.0, 'ls_max_tokens': 1024}, 'parent_ids': ['7b927055-bc1b-4b50-a34c-10d3cfcb3899']}\n",
            "{'event': 'on_chat_model_stream', 'data': {'chunk': AIMessageChunk(content='\",\\n      \"', additional_kwargs={}, response_metadata={}, id='run-156c3e40-82fb-49ff-8e41-9e998061be8c')}, 'run_id': '156c3e40-82fb-49ff-8e41-9e998061be8c', 'name': 'model', 'tags': ['seq:step:1'], 'metadata': {'ls_provider': 'anthropic', 'ls_model_name': 'claude-3-sonnet-20240229', 'ls_model_type': 'chat', 'ls_temperature': 0.0, 'ls_max_tokens': 1024}, 'parent_ids': ['7b927055-bc1b-4b50-a34c-10d3cfcb3899']}\n",
            "{'event': 'on_chat_model_stream', 'data': {'chunk': AIMessageChunk(content='population\": 67', additional_kwargs={}, response_metadata={}, id='run-156c3e40-82fb-49ff-8e41-9e998061be8c')}, 'run_id': '156c3e40-82fb-49ff-8e41-9e998061be8c', 'name': 'model', 'tags': ['seq:step:1'], 'metadata': {'ls_provider': 'anthropic', 'ls_model_name': 'claude-3-sonnet-20240229', 'ls_model_type': 'chat', 'ls_temperature': 0.0, 'ls_max_tokens': 1024}, 'parent_ids': ['7b927055-bc1b-4b50-a34c-10d3cfcb3899']}\n",
            "{'event': 'on_chat_model_stream', 'data': {'chunk': AIMessageChunk(content='413', additional_kwargs={}, response_metadata={}, id='run-156c3e40-82fb-49ff-8e41-9e998061be8c')}, 'run_id': '156c3e40-82fb-49ff-8e41-9e998061be8c', 'name': 'model', 'tags': ['seq:step:1'], 'metadata': {'ls_provider': 'anthropic', 'ls_model_name': 'claude-3-sonnet-20240229', 'ls_model_type': 'chat', 'ls_temperature': 0.0, 'ls_max_tokens': 1024}, 'parent_ids': ['7b927055-bc1b-4b50-a34c-10d3cfcb3899']}\n",
            "{'event': 'on_chat_model_stream', 'data': {'chunk': AIMessageChunk(content='000\\n    },', additional_kwargs={}, response_metadata={}, id='run-156c3e40-82fb-49ff-8e41-9e998061be8c')}, 'run_id': '156c3e40-82fb-49ff-8e41-9e998061be8c', 'name': 'model', 'tags': ['seq:step:1'], 'metadata': {'ls_provider': 'anthropic', 'ls_model_name': 'claude-3-sonnet-20240229', 'ls_model_type': 'chat', 'ls_temperature': 0.0, 'ls_max_tokens': 1024}, 'parent_ids': ['7b927055-bc1b-4b50-a34c-10d3cfcb3899']}\n",
            "...\n"
          ]
        }
      ],
      "source": [
        "chain = model.with_config({\"run_name\": \"model\"}) | JsonOutputParser().with_config(\n",
        "    {\"run_name\": \"my_parser\"}\n",
        ")\n",
        "\n",
        "max_events = 0\n",
        "async for event in chain.astream_events(\n",
        "    'output a list of the countries france, spain and japan and their populations in JSON format. Use a dict with an outer key of \"countries\" which contains a list of countries. Each country should have the key `name` and `population`',\n",
        "    include_types=[\"chat_model\"],\n",
        "):\n",
        "    print(event)\n",
        "    max_events += 1\n",
        "    if max_events > 10:\n",
        "        # Truncate output\n",
        "        print(\"...\")\n",
        "        break"
      ]
    },
    {
      "cell_type": "markdown",
      "id": "f1ec8dd4-9b5b-4000-b63f-5845bfc5a065",
      "metadata": {
        "id": "f1ec8dd4-9b5b-4000-b63f-5845bfc5a065"
      },
      "source": [
        "#### By Tags\n",
        "\n",
        ":::caution\n",
        "\n",
        "Tags are inherited by child components of a given runnable.\n",
        "\n",
        "If you're using tags to filter, make sure that this is what you want.\n",
        ":::"
      ]
    },
    {
      "cell_type": "code",
      "execution_count": null,
      "id": "c237c218-5fd6-4146-ac68-020a038cf582",
      "metadata": {
        "id": "c237c218-5fd6-4146-ac68-020a038cf582",
        "outputId": "617642a7-a9ac-4c8c-e1e2-3d4b25770d2b"
      },
      "outputs": [
        {
          "name": "stdout",
          "output_type": "stream",
          "text": [
            "{'event': 'on_chain_start', 'data': {'input': 'output a list of the countries france, spain and japan and their populations in JSON format. Use a dict with an outer key of \"countries\" which contains a list of countries. Each country should have the key `name` and `population`'}, 'name': 'RunnableSequence', 'tags': ['my_chain'], 'run_id': '58d1302e-36ce-4df7-a3cb-47cb73d57e44', 'metadata': {}, 'parent_ids': []}\n",
            "{'event': 'on_chat_model_start', 'data': {'input': {'messages': [[HumanMessage(content='output a list of the countries france, spain and japan and their populations in JSON format. Use a dict with an outer key of \"countries\" which contains a list of countries. Each country should have the key `name` and `population`', additional_kwargs={}, response_metadata={})]]}}, 'name': 'ChatAnthropic', 'tags': ['seq:step:1', 'my_chain'], 'run_id': '8222e8a1-d978-4f30-87fc-b2dba838774b', 'metadata': {'ls_provider': 'anthropic', 'ls_model_name': 'claude-3-sonnet-20240229', 'ls_model_type': 'chat', 'ls_temperature': 0.0, 'ls_max_tokens': 1024}, 'parent_ids': ['58d1302e-36ce-4df7-a3cb-47cb73d57e44']}\n",
            "{'event': 'on_chat_model_stream', 'data': {'chunk': AIMessageChunk(content='', additional_kwargs={}, response_metadata={}, id='run-8222e8a1-d978-4f30-87fc-b2dba838774b', usage_metadata={'input_tokens': 56, 'output_tokens': 1, 'total_tokens': 57, 'input_token_details': {'cache_creation': 0, 'cache_read': 0}})}, 'run_id': '8222e8a1-d978-4f30-87fc-b2dba838774b', 'name': 'ChatAnthropic', 'tags': ['seq:step:1', 'my_chain'], 'metadata': {'ls_provider': 'anthropic', 'ls_model_name': 'claude-3-sonnet-20240229', 'ls_model_type': 'chat', 'ls_temperature': 0.0, 'ls_max_tokens': 1024}, 'parent_ids': ['58d1302e-36ce-4df7-a3cb-47cb73d57e44']}\n",
            "{'event': 'on_parser_start', 'data': {}, 'name': 'JsonOutputParser', 'tags': ['seq:step:2', 'my_chain'], 'run_id': '75604c84-e1e6-494a-8b2a-950f45d932e8', 'metadata': {}, 'parent_ids': ['58d1302e-36ce-4df7-a3cb-47cb73d57e44']}\n",
            "{'event': 'on_chat_model_stream', 'data': {'chunk': AIMessageChunk(content='{', additional_kwargs={}, response_metadata={}, id='run-8222e8a1-d978-4f30-87fc-b2dba838774b')}, 'run_id': '8222e8a1-d978-4f30-87fc-b2dba838774b', 'name': 'ChatAnthropic', 'tags': ['seq:step:1', 'my_chain'], 'metadata': {'ls_provider': 'anthropic', 'ls_model_name': 'claude-3-sonnet-20240229', 'ls_model_type': 'chat', 'ls_temperature': 0.0, 'ls_max_tokens': 1024}, 'parent_ids': ['58d1302e-36ce-4df7-a3cb-47cb73d57e44']}\n",
            "{'event': 'on_parser_stream', 'run_id': '75604c84-e1e6-494a-8b2a-950f45d932e8', 'name': 'JsonOutputParser', 'tags': ['seq:step:2', 'my_chain'], 'metadata': {}, 'data': {'chunk': {}}, 'parent_ids': ['58d1302e-36ce-4df7-a3cb-47cb73d57e44']}\n",
            "{'event': 'on_chain_stream', 'run_id': '58d1302e-36ce-4df7-a3cb-47cb73d57e44', 'name': 'RunnableSequence', 'tags': ['my_chain'], 'metadata': {}, 'data': {'chunk': {}}, 'parent_ids': []}\n",
            "{'event': 'on_chat_model_stream', 'data': {'chunk': AIMessageChunk(content='\\n  \"countries', additional_kwargs={}, response_metadata={}, id='run-8222e8a1-d978-4f30-87fc-b2dba838774b')}, 'run_id': '8222e8a1-d978-4f30-87fc-b2dba838774b', 'name': 'ChatAnthropic', 'tags': ['seq:step:1', 'my_chain'], 'metadata': {'ls_provider': 'anthropic', 'ls_model_name': 'claude-3-sonnet-20240229', 'ls_model_type': 'chat', 'ls_temperature': 0.0, 'ls_max_tokens': 1024}, 'parent_ids': ['58d1302e-36ce-4df7-a3cb-47cb73d57e44']}\n",
            "{'event': 'on_chat_model_stream', 'data': {'chunk': AIMessageChunk(content='\": [\\n    ', additional_kwargs={}, response_metadata={}, id='run-8222e8a1-d978-4f30-87fc-b2dba838774b')}, 'run_id': '8222e8a1-d978-4f30-87fc-b2dba838774b', 'name': 'ChatAnthropic', 'tags': ['seq:step:1', 'my_chain'], 'metadata': {'ls_provider': 'anthropic', 'ls_model_name': 'claude-3-sonnet-20240229', 'ls_model_type': 'chat', 'ls_temperature': 0.0, 'ls_max_tokens': 1024}, 'parent_ids': ['58d1302e-36ce-4df7-a3cb-47cb73d57e44']}\n",
            "{'event': 'on_parser_stream', 'run_id': '75604c84-e1e6-494a-8b2a-950f45d932e8', 'name': 'JsonOutputParser', 'tags': ['seq:step:2', 'my_chain'], 'metadata': {}, 'data': {'chunk': {'countries': []}}, 'parent_ids': ['58d1302e-36ce-4df7-a3cb-47cb73d57e44']}\n",
            "{'event': 'on_chain_stream', 'run_id': '58d1302e-36ce-4df7-a3cb-47cb73d57e44', 'name': 'RunnableSequence', 'tags': ['my_chain'], 'metadata': {}, 'data': {'chunk': {'countries': []}}, 'parent_ids': []}\n",
            "...\n"
          ]
        }
      ],
      "source": [
        "chain = (model | JsonOutputParser()).with_config({\"tags\": [\"my_chain\"]})\n",
        "\n",
        "max_events = 0\n",
        "async for event in chain.astream_events(\n",
        "    'output a list of the countries france, spain and japan and their populations in JSON format. Use a dict with an outer key of \"countries\" which contains a list of countries. Each country should have the key `name` and `population`',\n",
        "    include_tags=[\"my_chain\"],\n",
        "):\n",
        "    print(event)\n",
        "    max_events += 1\n",
        "    if max_events > 10:\n",
        "        # Truncate output\n",
        "        print(\"...\")\n",
        "        break"
      ]
    },
    {
      "cell_type": "markdown",
      "id": "e05e54c4-61a2-4f6c-aa68-d2b09b5e1d4f",
      "metadata": {
        "id": "e05e54c4-61a2-4f6c-aa68-d2b09b5e1d4f"
      },
      "source": [
        "### Non-streaming components\n",
        "\n",
        "Remember how some components don't stream well because they don't operate on **input streams**?\n",
        "\n",
        "While such components can break streaming of the final output when using `astream`, `astream_events` will still yield streaming events from intermediate steps that support streaming!"
      ]
    },
    {
      "cell_type": "code",
      "execution_count": null,
      "id": "0e6451d3-3b11-4a71-ae19-998f4c10180f",
      "metadata": {
        "id": "0e6451d3-3b11-4a71-ae19-998f4c10180f"
      },
      "outputs": [],
      "source": [
        "# Function that does not support streaming.\n",
        "# It operates on the finalizes inputs rather than\n",
        "# operating on the input stream.\n",
        "def _extract_country_names(inputs):\n",
        "    \"\"\"A function that does not operates on input streams and breaks streaming.\"\"\"\n",
        "    if not isinstance(inputs, dict):\n",
        "        return \"\"\n",
        "\n",
        "    if \"countries\" not in inputs:\n",
        "        return \"\"\n",
        "\n",
        "    countries = inputs[\"countries\"]\n",
        "\n",
        "    if not isinstance(countries, list):\n",
        "        return \"\"\n",
        "\n",
        "    country_names = [\n",
        "        country.get(\"name\") for country in countries if isinstance(country, dict)\n",
        "    ]\n",
        "    return country_names\n",
        "\n",
        "\n",
        "chain = (\n",
        "    model | JsonOutputParser() | _extract_country_names\n",
        ")  # This parser only works with OpenAI right now"
      ]
    },
    {
      "cell_type": "markdown",
      "id": "a972e1a6-80cd-4d59-90a0-73563f1503d4",
      "metadata": {
        "id": "a972e1a6-80cd-4d59-90a0-73563f1503d4"
      },
      "source": [
        "As expected, the `astream` API doesn't work correctly because `_extract_country_names` doesn't operate on streams."
      ]
    },
    {
      "cell_type": "code",
      "execution_count": null,
      "id": "f9a8fe35-faab-4970-b8c0-5c780845d98a",
      "metadata": {
        "id": "f9a8fe35-faab-4970-b8c0-5c780845d98a",
        "outputId": "0a627ea0-ba27-4adb-c165-33b2eea62214"
      },
      "outputs": [
        {
          "name": "stdout",
          "output_type": "stream",
          "text": [
            "['France', 'Spain', 'Japan']\n"
          ]
        }
      ],
      "source": [
        "async for chunk in chain.astream(\n",
        "    \"output a list of the countries france, spain and japan and their populations in JSON format. \"\n",
        "    'Use a dict with an outer key of \"countries\" which contains a list of countries. '\n",
        "    \"Each country should have the key `name` and `population`\",\n",
        "):\n",
        "    print(chunk, flush=True)"
      ]
    },
    {
      "cell_type": "markdown",
      "id": "b279ea33-54f1-400a-acb1-b8445ccbf1fa",
      "metadata": {
        "id": "b279ea33-54f1-400a-acb1-b8445ccbf1fa"
      },
      "source": [
        "Now, let's confirm that with astream_events we're still seeing streaming output from the model and the parser."
      ]
    },
    {
      "cell_type": "code",
      "execution_count": null,
      "id": "2c83701e-b801-429f-b2ac-47ed44d2d11a",
      "metadata": {
        "id": "2c83701e-b801-429f-b2ac-47ed44d2d11a",
        "outputId": "1d1a5744-0be4-4d9c-d3e0-851ef68f8b50"
      },
      "outputs": [
        {
          "name": "stdout",
          "output_type": "stream",
          "text": [
            "Chat model chunk: ''\n",
            "Chat model chunk: '{'\n",
            "Parser chunk: {}\n",
            "Chat model chunk: '\\n  \"countries'\n",
            "Chat model chunk: '\": [\\n    '\n",
            "Parser chunk: {'countries': []}\n",
            "Chat model chunk: '{\\n      \"'\n",
            "Parser chunk: {'countries': [{}]}\n",
            "Chat model chunk: 'name\": \"France'\n",
            "Parser chunk: {'countries': [{'name': 'France'}]}\n",
            "Chat model chunk: '\",\\n      \"'\n",
            "Chat model chunk: 'population\": 67'\n",
            "Parser chunk: {'countries': [{'name': 'France', 'population': 67}]}\n",
            "Chat model chunk: '413'\n",
            "Parser chunk: {'countries': [{'name': 'France', 'population': 67413}]}\n",
            "Chat model chunk: '000\\n    },'\n",
            "Parser chunk: {'countries': [{'name': 'France', 'population': 67413000}]}\n",
            "Chat model chunk: '\\n    {'\n",
            "Parser chunk: {'countries': [{'name': 'France', 'population': 67413000}, {}]}\n",
            "Chat model chunk: '\\n      \"name\":'\n",
            "Chat model chunk: ' \"Spain\",'\n",
            "Parser chunk: {'countries': [{'name': 'France', 'population': 67413000}, {'name': 'Spain'}]}\n",
            "Chat model chunk: '\\n      \"population\":'\n",
            "Chat model chunk: ' 47'\n",
            "Parser chunk: {'countries': [{'name': 'France', 'population': 67413000}, {'name': 'Spain', 'population': 47}]}\n",
            "Chat model chunk: '351'\n",
            "Parser chunk: {'countries': [{'name': 'France', 'population': 67413000}, {'name': 'Spain', 'population': 47351}]}\n",
            "...\n"
          ]
        }
      ],
      "source": [
        "num_events = 0\n",
        "\n",
        "async for event in chain.astream_events(\n",
        "    \"output a list of the countries france, spain and japan and their populations in JSON format. \"\n",
        "    'Use a dict with an outer key of \"countries\" which contains a list of countries. '\n",
        "    \"Each country should have the key `name` and `population`\",\n",
        "):\n",
        "    kind = event[\"event\"]\n",
        "    if kind == \"on_chat_model_stream\":\n",
        "        print(\n",
        "            f\"Chat model chunk: {repr(event['data']['chunk'].content)}\",\n",
        "            flush=True,\n",
        "        )\n",
        "    if kind == \"on_parser_stream\":\n",
        "        print(f\"Parser chunk: {event['data']['chunk']}\", flush=True)\n",
        "    num_events += 1\n",
        "    if num_events > 30:\n",
        "        # Truncate the output\n",
        "        print(\"...\")\n",
        "        break"
      ]
    },
    {
      "cell_type": "markdown",
      "id": "6e91bdd3-f4a3-4b3c-b21a-26365c6c1566",
      "metadata": {
        "id": "6e91bdd3-f4a3-4b3c-b21a-26365c6c1566"
      },
      "source": [
        "### Propagating Callbacks\n",
        "\n",
        ":::caution\n",
        "If you're using invoking runnables inside your tools, you need to propagate callbacks to the runnable; otherwise, no stream events will be generated.\n",
        ":::\n",
        "\n",
        ":::note\n",
        "When using `RunnableLambdas` or `@chain` decorator, callbacks are propagated automatically behind the scenes.\n",
        ":::"
      ]
    },
    {
      "cell_type": "code",
      "execution_count": null,
      "id": "1854206d-b3a5-4f91-9e00-bccbaebac61f",
      "metadata": {
        "id": "1854206d-b3a5-4f91-9e00-bccbaebac61f",
        "outputId": "048bcd64-17e3-4d15-8141-28940ee82fb5"
      },
      "outputs": [
        {
          "name": "stdout",
          "output_type": "stream",
          "text": [
            "{'event': 'on_tool_start', 'data': {'input': 'hello'}, 'name': 'bad_tool', 'tags': [], 'run_id': 'ea900472-a8f7-425d-b627-facdef936ee8', 'metadata': {}}\n",
            "{'event': 'on_chain_start', 'data': {'input': 'hello'}, 'name': 'reverse_word', 'tags': [], 'run_id': '77b01284-0515-48f4-8d7c-eb27c1882f86', 'metadata': {}}\n",
            "{'event': 'on_chain_end', 'data': {'output': 'olleh', 'input': 'hello'}, 'run_id': '77b01284-0515-48f4-8d7c-eb27c1882f86', 'name': 'reverse_word', 'tags': [], 'metadata': {}}\n",
            "{'event': 'on_tool_end', 'data': {'output': 'olleh'}, 'run_id': 'ea900472-a8f7-425d-b627-facdef936ee8', 'name': 'bad_tool', 'tags': [], 'metadata': {}}\n"
          ]
        }
      ],
      "source": [
        "from langchain_core.runnables import RunnableLambda\n",
        "from langchain_core.tools import tool\n",
        "\n",
        "\n",
        "def reverse_word(word: str):\n",
        "    return word[::-1]\n",
        "\n",
        "\n",
        "reverse_word = RunnableLambda(reverse_word)\n",
        "\n",
        "\n",
        "@tool\n",
        "def bad_tool(word: str):\n",
        "    \"\"\"Custom tool that doesn't propagate callbacks.\"\"\"\n",
        "    return reverse_word.invoke(word)\n",
        "\n",
        "\n",
        "async for event in bad_tool.astream_events(\"hello\"):\n",
        "    print(event)"
      ]
    },
    {
      "cell_type": "markdown",
      "id": "23e68a99-7886-465b-8575-116022857469",
      "metadata": {
        "id": "23e68a99-7886-465b-8575-116022857469"
      },
      "source": [
        "Here's a re-implementation that does propagate callbacks correctly. You'll notice that now we're getting events from the `reverse_word` runnable as well."
      ]
    },
    {
      "cell_type": "code",
      "execution_count": null,
      "id": "a20a6cb3-bb43-465c-8cfc-0a7349d70968",
      "metadata": {
        "id": "a20a6cb3-bb43-465c-8cfc-0a7349d70968",
        "outputId": "bfd308e4-a328-42d0-e5d1-cce08a405bf7"
      },
      "outputs": [
        {
          "name": "stdout",
          "output_type": "stream",
          "text": [
            "{'event': 'on_tool_start', 'data': {'input': 'hello'}, 'name': 'correct_tool', 'tags': [], 'run_id': 'd5ea83b9-9278-49cc-9f1d-aa302d671040', 'metadata': {}}\n",
            "{'event': 'on_chain_start', 'data': {'input': 'hello'}, 'name': 'reverse_word', 'tags': [], 'run_id': '44dafbf4-2f87-412b-ae0e-9f71713810df', 'metadata': {}}\n",
            "{'event': 'on_chain_end', 'data': {'output': 'olleh', 'input': 'hello'}, 'run_id': '44dafbf4-2f87-412b-ae0e-9f71713810df', 'name': 'reverse_word', 'tags': [], 'metadata': {}}\n",
            "{'event': 'on_tool_end', 'data': {'output': 'olleh'}, 'run_id': 'd5ea83b9-9278-49cc-9f1d-aa302d671040', 'name': 'correct_tool', 'tags': [], 'metadata': {}}\n"
          ]
        }
      ],
      "source": [
        "@tool\n",
        "def correct_tool(word: str, callbacks):\n",
        "    \"\"\"A tool that correctly propagates callbacks.\"\"\"\n",
        "    return reverse_word.invoke(word, {\"callbacks\": callbacks})\n",
        "\n",
        "\n",
        "async for event in correct_tool.astream_events(\"hello\"):\n",
        "    print(event)"
      ]
    },
    {
      "cell_type": "markdown",
      "id": "640daa94-e4fe-4997-ab6e-45120f18b9ee",
      "metadata": {
        "id": "640daa94-e4fe-4997-ab6e-45120f18b9ee"
      },
      "source": [
        "If you're invoking runnables from within Runnable Lambdas or `@chains`, then callbacks will be passed automatically on your behalf."
      ]
    },
    {
      "cell_type": "code",
      "execution_count": null,
      "id": "0ac0a3c1-f3a4-4157-b053-4fec8d2e698c",
      "metadata": {
        "id": "0ac0a3c1-f3a4-4157-b053-4fec8d2e698c",
        "outputId": "4d0dfe4d-0f17-4a81-a0f1-1c0eee90b0be"
      },
      "outputs": [
        {
          "name": "stdout",
          "output_type": "stream",
          "text": [
            "{'event': 'on_chain_start', 'data': {'input': '1234'}, 'name': 'reverse_and_double', 'tags': [], 'run_id': '03b0e6a1-3e60-42fc-8373-1e7829198d80', 'metadata': {}}\n",
            "{'event': 'on_chain_start', 'data': {'input': '1234'}, 'name': 'reverse_word', 'tags': [], 'run_id': '5cf26fc8-840b-4642-98ed-623dda28707a', 'metadata': {}}\n",
            "{'event': 'on_chain_end', 'data': {'output': '4321', 'input': '1234'}, 'run_id': '5cf26fc8-840b-4642-98ed-623dda28707a', 'name': 'reverse_word', 'tags': [], 'metadata': {}}\n",
            "{'event': 'on_chain_stream', 'data': {'chunk': '43214321'}, 'run_id': '03b0e6a1-3e60-42fc-8373-1e7829198d80', 'name': 'reverse_and_double', 'tags': [], 'metadata': {}}\n",
            "{'event': 'on_chain_end', 'data': {'output': '43214321'}, 'run_id': '03b0e6a1-3e60-42fc-8373-1e7829198d80', 'name': 'reverse_and_double', 'tags': [], 'metadata': {}}\n"
          ]
        }
      ],
      "source": [
        "from langchain_core.runnables import RunnableLambda\n",
        "\n",
        "\n",
        "async def reverse_and_double(word: str):\n",
        "    return await reverse_word.ainvoke(word) * 2\n",
        "\n",
        "\n",
        "reverse_and_double = RunnableLambda(reverse_and_double)\n",
        "\n",
        "await reverse_and_double.ainvoke(\"1234\")\n",
        "\n",
        "async for event in reverse_and_double.astream_events(\"1234\"):\n",
        "    print(event)"
      ]
    },
    {
      "cell_type": "markdown",
      "id": "35a34268-9b3d-4857-b4ed-65d95f4a1293",
      "metadata": {
        "id": "35a34268-9b3d-4857-b4ed-65d95f4a1293"
      },
      "source": [
        "And with the `@chain` decorator:"
      ]
    },
    {
      "cell_type": "code",
      "execution_count": null,
      "id": "c896bb94-9d10-41ff-8fe2-d6b05b1ed74b",
      "metadata": {
        "id": "c896bb94-9d10-41ff-8fe2-d6b05b1ed74b",
        "outputId": "3918f40a-adf5-48e5-8ef2-7cee0a5bfce5"
      },
      "outputs": [
        {
          "name": "stdout",
          "output_type": "stream",
          "text": [
            "{'event': 'on_chain_start', 'data': {'input': '1234'}, 'name': 'reverse_and_double', 'tags': [], 'run_id': '1bfcaedc-f4aa-4d8e-beee-9bba6ef17008', 'metadata': {}}\n",
            "{'event': 'on_chain_start', 'data': {'input': '1234'}, 'name': 'reverse_word', 'tags': [], 'run_id': '64fc99f0-5d7d-442b-b4f5-4537129f67d1', 'metadata': {}}\n",
            "{'event': 'on_chain_end', 'data': {'output': '4321', 'input': '1234'}, 'run_id': '64fc99f0-5d7d-442b-b4f5-4537129f67d1', 'name': 'reverse_word', 'tags': [], 'metadata': {}}\n",
            "{'event': 'on_chain_stream', 'data': {'chunk': '43214321'}, 'run_id': '1bfcaedc-f4aa-4d8e-beee-9bba6ef17008', 'name': 'reverse_and_double', 'tags': [], 'metadata': {}}\n",
            "{'event': 'on_chain_end', 'data': {'output': '43214321'}, 'run_id': '1bfcaedc-f4aa-4d8e-beee-9bba6ef17008', 'name': 'reverse_and_double', 'tags': [], 'metadata': {}}\n"
          ]
        }
      ],
      "source": [
        "from langchain_core.runnables import chain\n",
        "\n",
        "\n",
        "@chain\n",
        "async def reverse_and_double(word: str):\n",
        "    return await reverse_word.ainvoke(word) * 2\n",
        "\n",
        "\n",
        "await reverse_and_double.ainvoke(\"1234\")\n",
        "\n",
        "async for event in reverse_and_double.astream_events(\"1234\"):\n",
        "    print(event)"
      ]
    },
    {
      "cell_type": "markdown",
      "id": "2a3efcd9",
      "metadata": {
        "id": "2a3efcd9"
      },
      "source": [
        "## Next steps\n",
        "\n",
        "Now you've learned some ways to stream both final outputs and internal steps with LangChain.\n",
        "\n",
        "To learn more, check out the other how-to guides in this section, or the [conceptual guide on Langchain Expression Language](/docs/concepts/lcel/)."
      ]
    }
  ],
  "metadata": {
    "kernelspec": {
      "display_name": "Python 3 (ipykernel)",
      "language": "python",
      "name": "python3"
    },
    "language_info": {
      "codemirror_mode": {
        "name": "ipython",
        "version": 3
      },
      "file_extension": ".py",
      "mimetype": "text/x-python",
      "name": "python",
      "nbconvert_exporter": "python",
      "pygments_lexer": "ipython3",
      "version": "3.10.4"
    },
    "colab": {
      "provenance": []
    }
  },
  "nbformat": 4,
  "nbformat_minor": 5
}